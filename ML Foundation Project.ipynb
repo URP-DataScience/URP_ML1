{
  "nbformat": 4,
  "nbformat_minor": 0,
  "metadata": {
    "kernelspec": {
      "display_name": "Python 3",
      "language": "python",
      "name": "python3"
    },
    "language_info": {
      "codemirror_mode": {
        "name": "ipython",
        "version": 3
      },
      "file_extension": ".py",
      "mimetype": "text/x-python",
      "name": "python",
      "nbconvert_exporter": "python",
      "pygments_lexer": "ipython3",
      "version": "3.7.4"
    },
    "colab": {
      "name": "ML Foundation Project.ipynb",
      "provenance": []
    }
  },
  "cells": [
    {
      "cell_type": "markdown",
      "metadata": {
        "colab_type": "text",
        "id": "lvJWTz5IvzkO"
      },
      "source": [
        "**### Introduction **\n",
        "What’s the best (or at least the most popular) Halloween candy? That was the question this dataset was collected to answer. Data was collected by creating a website where participants were shown presenting two fun-sized candies and asked to click on the one they would prefer to receive. In total, more than 269 thousand votes were collected from 8,371 different IP addresses.\n",
        "\n",
        "Content\n",
        "candy-data.csv includes attributes for each candy along with its ranking. For binary variables, 1 means yes, 0 means no. The data contains the following \n",
        "\n",
        "fields:\n",
        "chocolate: Does it contain chocolate?\n",
        "fruity: Is it fruit flavored?\n",
        "caramel: Is there caramel in the candy?\n",
        "peanutalmondy: Does it contain peanuts, peanut butter or almonds?\n",
        "nougat: Does it contain nougat?\n",
        "crispedricewafer: Does it contain crisped rice, wafers, or a cookie component?\n",
        "hard: Is it a hard candy?\n",
        "bar: Is it a candy bar?\n",
        "pluribus: Is it one of many candies in a bag or box?\n",
        "sugarpercent: The percentile of sugar it falls under within the data set.\n",
        "pricepercent: The unit price percentile compared to the rest of the set.\n",
        "winpercent: The overall win percentage according to 269,000 matchup\n",
        "\n",
        "The Difference Between Chocolate and Candy\n",
        "Is chocolate candy? In short, the answer is no. The big difference between chocolate and candy is the proportion of ingredients. Candy's main ingredient is sugar, sweet and simple. Chocolate's defining ingredient is chocolate solids. This is also why milk and dark chocolates are distinguished by their percentages of chocolate solids. Chocolate vs. Candy. What's the difference between chocolate and candy? Quality Chocolate from Rocky Mountain Chocolate Factory Chocolate solids are different than cocoa butter or cocoa plant-based products. Chocolate comes from the cocoa plant—or more specifically its fruit. Chocolate solids, moreover, come mostly from the chocolate liquor, a paste that comes from ground cocoa bean nibs. \n",
        "\n",
        "That means that technically, white chocolate is not chocolate. Instead of cocoa solids, white chocolate is made of cocoa butter. \n",
        "\n",
        "Can I call chocolate candy? \n",
        "Chocolate is not actually candy, but a lot of people refer to it as such. In the modern era, chocolate is consumed in the same snackable way that candy is eaten. Historically, making and consuming chocolate was a much more complicated process. Today, it's more acceptable to consider chocolate a subset of candy. Think about this: while chocolate is often included in candy shops, you rarely see candies in chocolatiers, or chocolate shops.\n",
        "Candy\n",
        "\n",
        "Candy, also called sweets or lollies, is a confection that features sugar as a principal ingredient. The category, called sugar confectionery, encompasses any sweet confection, including chocolate, chewing gum, and sugar candy. Vegetables, fruit, or nuts which have been glazed and coated with sugar are said to be candied. Physically, candy is characterized by the use of a significant amount of sugar or sugar substitutes. Unlike a cake or loaf of bread that would be shared among many people, candies are usually made in smaller pieces. However, the definition of candy also depends upon how people treat the food. Unlike sweet pastries served for a dessert course at the end of a meal, candies are normally eaten casually, often with the fingers, as a snack between meals. Each culture has its own ideas of what constitutes candy rather than dessert. The same food may be a candy in one culture and a dessert in another.\n"
      ]
    },
    {
      "cell_type": "markdown",
      "metadata": {
        "id": "tyTJUMPQy371",
        "colab_type": "text"
      },
      "source": [
        "Table of Content\n",
        "\n",
        "1. Problem Statement\n",
        "\n",
        "2. Data Loading and Description\n",
        "\n",
        "3. Exploratory Data Analysis\n",
        "\n",
        "4. Introduction to Linear Regression\n",
        "\n",
        "    4.1. Linear Regression Equation with Errors in consideration\n",
        "\n",
        "    4.1.1. Assumptions of Linear Regression\n",
        "\n",
        "    4.2. Preparing X and y using pandas\n",
        "\n",
        "    4.3. Splitting X and y into training and test datasets\n",
        "\n",
        "    4.4. Linear regression in scikit-learn\n",
        "\n",
        "    4.5. Interpreting Model Coefficients\n",
        "\n",
        "    4.6. Using the Model for Prediction\n",
        "\n",
        "5. Model evaluation\n",
        "\n",
        "    5.1. Model evaluation using metrics\n",
        "  \n",
        "    5.2. Model Evaluation using Rsquared value.\n",
        "\n",
        "6. Feature Selection\n",
        "\n",
        "7. Handling Categorical Features \n",
        "\n",
        "8. Interpritation\n"
      ]
    },
    {
      "cell_type": "markdown",
      "metadata": {
        "id": "o6BHa8Z6vBR6",
        "colab_type": "text"
      },
      "source": [
        "### 1. Problem Statement"
      ]
    },
    {
      "cell_type": "markdown",
      "metadata": {
        "id": "wlQPriK9wIwT",
        "colab_type": "text"
      },
      "source": [
        "in this data we can find out that,\n",
        "1. Which qualities are associated with higher rankings?\n",
        "2. What’s the most popular candy? \n",
        "3. which combinations of ingredients that can make good candy or a chocolate?\n",
        "\n",
        "This analysis we will be focusing on deriving the most important attributes of a candy. We’ll be utilizing a statistical method called Shapley Value Regression to derive the key factors of a successful candy!\n"
      ]
    },
    {
      "cell_type": "markdown",
      "metadata": {
        "colab_type": "text",
        "id": "sW-F_3hyyvN0"
      },
      "source": [
        "### 2. Data Loading and Description\n",
        "\n",
        "\n",
        "\n",
        "\n",
        "\n",
        "\n",
        "\n",
        "\n"
      ]
    },
    {
      "cell_type": "code",
      "metadata": {
        "id": "sql_zTV8xIb4",
        "colab_type": "code",
        "colab": {}
      },
      "source": [
        "### Importing packages      \n",
        "import numpy as np                                                 # Implemennts milti-dimensional array and matrices\n",
        "import pandas as pd                                                # For data manipulation and analys\n",
        "### Import pandas_profiling\n",
        "import matplotlib.pyplot as plt                                    # Plotting library for Python programming language and it's numerical mathematics extension NumPy\n",
        "import seaborn as sns                                              # Provides a high level interface for drawing attractive and informative statistical graphics\n",
        "%matplotlib inline\n",
        "sns.set()\n",
        "from subprocess import check_output\n",
        "from __future__ import division, absolute_import, print_function"
      ],
      "execution_count": 0,
      "outputs": []
    },
    {
      "cell_type": "code",
      "metadata": {
        "id": "tVRtKG0TxIb9",
        "colab_type": "code",
        "colab": {}
      },
      "source": [
        "### Importing the Dataset\n",
        "\n",
        "candy_data = pd.read_csv(\"https://raw.githubusercontent.com/banduguide/URP_ML1/master/Candy_Data.csv\")     # Importing training dataset using pd.read_csv"
      ],
      "execution_count": 0,
      "outputs": []
    },
    {
      "cell_type": "code",
      "metadata": {
        "id": "yRTRBgvfxIcE",
        "colab_type": "code",
        "outputId": "96c98907-146d-474f-9bde-34a223ac0492",
        "colab": {
          "base_uri": "https://localhost:8080/",
          "height": 204
        }
      },
      "source": [
        "### Preprocessing the data\n",
        "candy_data.head ()"
      ],
      "execution_count": 8,
      "outputs": [
        {
          "output_type": "execute_result",
          "data": {
            "text/html": [
              "<div>\n",
              "<style scoped>\n",
              "    .dataframe tbody tr th:only-of-type {\n",
              "        vertical-align: middle;\n",
              "    }\n",
              "\n",
              "    .dataframe tbody tr th {\n",
              "        vertical-align: top;\n",
              "    }\n",
              "\n",
              "    .dataframe thead th {\n",
              "        text-align: right;\n",
              "    }\n",
              "</style>\n",
              "<table border=\"1\" class=\"dataframe\">\n",
              "  <thead>\n",
              "    <tr style=\"text-align: right;\">\n",
              "      <th></th>\n",
              "      <th>competitorname</th>\n",
              "      <th>chocolate</th>\n",
              "      <th>fruity</th>\n",
              "      <th>caramel</th>\n",
              "      <th>peanutyalmondy</th>\n",
              "      <th>nougat</th>\n",
              "      <th>crispedricewafer</th>\n",
              "      <th>hard</th>\n",
              "      <th>bar</th>\n",
              "      <th>pluribus</th>\n",
              "      <th>sugarpercent</th>\n",
              "      <th>pricepercent</th>\n",
              "      <th>winpercent</th>\n",
              "    </tr>\n",
              "  </thead>\n",
              "  <tbody>\n",
              "    <tr>\n",
              "      <th>0</th>\n",
              "      <td>100 grand</td>\n",
              "      <td>1</td>\n",
              "      <td>0</td>\n",
              "      <td>1</td>\n",
              "      <td>0</td>\n",
              "      <td>0</td>\n",
              "      <td>1</td>\n",
              "      <td>0</td>\n",
              "      <td>1</td>\n",
              "      <td>0</td>\n",
              "      <td>0.732</td>\n",
              "      <td>0.860</td>\n",
              "      <td>66.971725</td>\n",
              "    </tr>\n",
              "    <tr>\n",
              "      <th>1</th>\n",
              "      <td>3 musketeers</td>\n",
              "      <td>1</td>\n",
              "      <td>0</td>\n",
              "      <td>0</td>\n",
              "      <td>0</td>\n",
              "      <td>1</td>\n",
              "      <td>0</td>\n",
              "      <td>0</td>\n",
              "      <td>1</td>\n",
              "      <td>0</td>\n",
              "      <td>0.604</td>\n",
              "      <td>0.511</td>\n",
              "      <td>67.602936</td>\n",
              "    </tr>\n",
              "    <tr>\n",
              "      <th>2</th>\n",
              "      <td>one dime</td>\n",
              "      <td>0</td>\n",
              "      <td>0</td>\n",
              "      <td>0</td>\n",
              "      <td>0</td>\n",
              "      <td>0</td>\n",
              "      <td>0</td>\n",
              "      <td>0</td>\n",
              "      <td>0</td>\n",
              "      <td>0</td>\n",
              "      <td>0.011</td>\n",
              "      <td>0.116</td>\n",
              "      <td>32.261086</td>\n",
              "    </tr>\n",
              "    <tr>\n",
              "      <th>3</th>\n",
              "      <td>one quarter</td>\n",
              "      <td>0</td>\n",
              "      <td>0</td>\n",
              "      <td>0</td>\n",
              "      <td>0</td>\n",
              "      <td>0</td>\n",
              "      <td>0</td>\n",
              "      <td>0</td>\n",
              "      <td>0</td>\n",
              "      <td>0</td>\n",
              "      <td>0.011</td>\n",
              "      <td>0.511</td>\n",
              "      <td>46.116505</td>\n",
              "    </tr>\n",
              "    <tr>\n",
              "      <th>4</th>\n",
              "      <td>air heads</td>\n",
              "      <td>0</td>\n",
              "      <td>1</td>\n",
              "      <td>0</td>\n",
              "      <td>0</td>\n",
              "      <td>0</td>\n",
              "      <td>0</td>\n",
              "      <td>0</td>\n",
              "      <td>0</td>\n",
              "      <td>0</td>\n",
              "      <td>0.906</td>\n",
              "      <td>0.511</td>\n",
              "      <td>52.341465</td>\n",
              "    </tr>\n",
              "  </tbody>\n",
              "</table>\n",
              "</div>"
            ],
            "text/plain": [
              "  competitorname  chocolate  fruity  ...  sugarpercent  pricepercent  winpercent\n",
              "0      100 grand          1       0  ...         0.732         0.860   66.971725\n",
              "1   3 musketeers          1       0  ...         0.604         0.511   67.602936\n",
              "2       one dime          0       0  ...         0.011         0.116   32.261086\n",
              "3    one quarter          0       0  ...         0.011         0.511   46.116505\n",
              "4      air heads          0       1  ...         0.906         0.511   52.341465\n",
              "\n",
              "[5 rows x 13 columns]"
            ]
          },
          "metadata": {
            "tags": []
          },
          "execution_count": 8
        }
      ]
    },
    {
      "cell_type": "markdown",
      "metadata": {
        "id": "0QxbWQyFUBV4",
        "colab_type": "text"
      },
      "source": [
        "\n",
        "\n",
        "### 3. Exploratory Data Analysis\n",
        "\n",
        "\n",
        "\n",
        "\n",
        "\n"
      ]
    },
    {
      "cell_type": "code",
      "metadata": {
        "id": "JxMSpaAkyZkY",
        "colab_type": "code",
        "outputId": "f12ee35f-598e-446f-d6a6-09c69f4c0f76",
        "colab": {
          "base_uri": "https://localhost:8080/",
          "height": 34
        }
      },
      "source": [
        "candy_data.shape"
      ],
      "execution_count": 9,
      "outputs": [
        {
          "output_type": "execute_result",
          "data": {
            "text/plain": [
              "(85, 13)"
            ]
          },
          "metadata": {
            "tags": []
          },
          "execution_count": 9
        }
      ]
    },
    {
      "cell_type": "code",
      "metadata": {
        "id": "7WaqBBwTLN9Y",
        "colab_type": "code",
        "outputId": "b8c05e6f-cdbb-4f5f-8981-b9335425db9b",
        "colab": {
          "base_uri": "https://localhost:8080/",
          "height": 255
        }
      },
      "source": [
        "candy_data.describe"
      ],
      "execution_count": 10,
      "outputs": [
        {
          "output_type": "execute_result",
          "data": {
            "text/plain": [
              "<bound method NDFrame.describe of                competitorname  chocolate  ...  pricepercent  winpercent\n",
              "0                   100 grand          1  ...         0.860   66.971725\n",
              "1                3 musketeers          1  ...         0.511   67.602936\n",
              "2                    one dime          0  ...         0.116   32.261086\n",
              "3                 one quarter          0  ...         0.511   46.116505\n",
              "4                   air heads          0  ...         0.511   52.341465\n",
              "..                        ...        ...  ...           ...         ...\n",
              "80                  twizzlers          0  ...         0.116   45.466282\n",
              "81                   warheads          0  ...         0.116   39.011898\n",
              "82        welchs fruit snacks          0  ...         0.313   44.375519\n",
              "83  werthers original caramel          0  ...         0.267   41.904308\n",
              "84                   whoppers          1  ...         0.848   49.524113\n",
              "\n",
              "[85 rows x 13 columns]>"
            ]
          },
          "metadata": {
            "tags": []
          },
          "execution_count": 10
        }
      ]
    },
    {
      "cell_type": "code",
      "metadata": {
        "id": "ct5IL2LoYREL",
        "colab_type": "code",
        "outputId": "0b276f3c-8eb2-4245-e2c9-aada1cdc69a0",
        "colab": {
          "base_uri": "https://localhost:8080/",
          "height": 297
        }
      },
      "source": [
        "candy_data.describe()"
      ],
      "execution_count": 11,
      "outputs": [
        {
          "output_type": "execute_result",
          "data": {
            "text/html": [
              "<div>\n",
              "<style scoped>\n",
              "    .dataframe tbody tr th:only-of-type {\n",
              "        vertical-align: middle;\n",
              "    }\n",
              "\n",
              "    .dataframe tbody tr th {\n",
              "        vertical-align: top;\n",
              "    }\n",
              "\n",
              "    .dataframe thead th {\n",
              "        text-align: right;\n",
              "    }\n",
              "</style>\n",
              "<table border=\"1\" class=\"dataframe\">\n",
              "  <thead>\n",
              "    <tr style=\"text-align: right;\">\n",
              "      <th></th>\n",
              "      <th>chocolate</th>\n",
              "      <th>fruity</th>\n",
              "      <th>caramel</th>\n",
              "      <th>peanutyalmondy</th>\n",
              "      <th>nougat</th>\n",
              "      <th>crispedricewafer</th>\n",
              "      <th>hard</th>\n",
              "      <th>bar</th>\n",
              "      <th>pluribus</th>\n",
              "      <th>sugarpercent</th>\n",
              "      <th>pricepercent</th>\n",
              "      <th>winpercent</th>\n",
              "    </tr>\n",
              "  </thead>\n",
              "  <tbody>\n",
              "    <tr>\n",
              "      <th>count</th>\n",
              "      <td>85.000000</td>\n",
              "      <td>85.000000</td>\n",
              "      <td>85.000000</td>\n",
              "      <td>85.000000</td>\n",
              "      <td>85.000000</td>\n",
              "      <td>85.000000</td>\n",
              "      <td>85.000000</td>\n",
              "      <td>85.000000</td>\n",
              "      <td>85.000000</td>\n",
              "      <td>85.000000</td>\n",
              "      <td>85.000000</td>\n",
              "      <td>85.000000</td>\n",
              "    </tr>\n",
              "    <tr>\n",
              "      <th>mean</th>\n",
              "      <td>0.435294</td>\n",
              "      <td>0.447059</td>\n",
              "      <td>0.164706</td>\n",
              "      <td>0.164706</td>\n",
              "      <td>0.082353</td>\n",
              "      <td>0.082353</td>\n",
              "      <td>0.176471</td>\n",
              "      <td>0.247059</td>\n",
              "      <td>0.517647</td>\n",
              "      <td>0.478647</td>\n",
              "      <td>0.468882</td>\n",
              "      <td>50.316764</td>\n",
              "    </tr>\n",
              "    <tr>\n",
              "      <th>std</th>\n",
              "      <td>0.498738</td>\n",
              "      <td>0.500140</td>\n",
              "      <td>0.373116</td>\n",
              "      <td>0.373116</td>\n",
              "      <td>0.276533</td>\n",
              "      <td>0.276533</td>\n",
              "      <td>0.383482</td>\n",
              "      <td>0.433861</td>\n",
              "      <td>0.502654</td>\n",
              "      <td>0.282778</td>\n",
              "      <td>0.285740</td>\n",
              "      <td>14.714357</td>\n",
              "    </tr>\n",
              "    <tr>\n",
              "      <th>min</th>\n",
              "      <td>0.000000</td>\n",
              "      <td>0.000000</td>\n",
              "      <td>0.000000</td>\n",
              "      <td>0.000000</td>\n",
              "      <td>0.000000</td>\n",
              "      <td>0.000000</td>\n",
              "      <td>0.000000</td>\n",
              "      <td>0.000000</td>\n",
              "      <td>0.000000</td>\n",
              "      <td>0.011000</td>\n",
              "      <td>0.011000</td>\n",
              "      <td>22.445341</td>\n",
              "    </tr>\n",
              "    <tr>\n",
              "      <th>25%</th>\n",
              "      <td>0.000000</td>\n",
              "      <td>0.000000</td>\n",
              "      <td>0.000000</td>\n",
              "      <td>0.000000</td>\n",
              "      <td>0.000000</td>\n",
              "      <td>0.000000</td>\n",
              "      <td>0.000000</td>\n",
              "      <td>0.000000</td>\n",
              "      <td>0.000000</td>\n",
              "      <td>0.220000</td>\n",
              "      <td>0.255000</td>\n",
              "      <td>39.141056</td>\n",
              "    </tr>\n",
              "    <tr>\n",
              "      <th>50%</th>\n",
              "      <td>0.000000</td>\n",
              "      <td>0.000000</td>\n",
              "      <td>0.000000</td>\n",
              "      <td>0.000000</td>\n",
              "      <td>0.000000</td>\n",
              "      <td>0.000000</td>\n",
              "      <td>0.000000</td>\n",
              "      <td>0.000000</td>\n",
              "      <td>1.000000</td>\n",
              "      <td>0.465000</td>\n",
              "      <td>0.465000</td>\n",
              "      <td>47.829754</td>\n",
              "    </tr>\n",
              "    <tr>\n",
              "      <th>75%</th>\n",
              "      <td>1.000000</td>\n",
              "      <td>1.000000</td>\n",
              "      <td>0.000000</td>\n",
              "      <td>0.000000</td>\n",
              "      <td>0.000000</td>\n",
              "      <td>0.000000</td>\n",
              "      <td>0.000000</td>\n",
              "      <td>0.000000</td>\n",
              "      <td>1.000000</td>\n",
              "      <td>0.732000</td>\n",
              "      <td>0.651000</td>\n",
              "      <td>59.863998</td>\n",
              "    </tr>\n",
              "    <tr>\n",
              "      <th>max</th>\n",
              "      <td>1.000000</td>\n",
              "      <td>1.000000</td>\n",
              "      <td>1.000000</td>\n",
              "      <td>1.000000</td>\n",
              "      <td>1.000000</td>\n",
              "      <td>1.000000</td>\n",
              "      <td>1.000000</td>\n",
              "      <td>1.000000</td>\n",
              "      <td>1.000000</td>\n",
              "      <td>0.988000</td>\n",
              "      <td>0.976000</td>\n",
              "      <td>84.180290</td>\n",
              "    </tr>\n",
              "  </tbody>\n",
              "</table>\n",
              "</div>"
            ],
            "text/plain": [
              "       chocolate     fruity    caramel  ...  sugarpercent  pricepercent  winpercent\n",
              "count  85.000000  85.000000  85.000000  ...     85.000000     85.000000   85.000000\n",
              "mean    0.435294   0.447059   0.164706  ...      0.478647      0.468882   50.316764\n",
              "std     0.498738   0.500140   0.373116  ...      0.282778      0.285740   14.714357\n",
              "min     0.000000   0.000000   0.000000  ...      0.011000      0.011000   22.445341\n",
              "25%     0.000000   0.000000   0.000000  ...      0.220000      0.255000   39.141056\n",
              "50%     0.000000   0.000000   0.000000  ...      0.465000      0.465000   47.829754\n",
              "75%     1.000000   1.000000   0.000000  ...      0.732000      0.651000   59.863998\n",
              "max     1.000000   1.000000   1.000000  ...      0.988000      0.976000   84.180290\n",
              "\n",
              "[8 rows x 12 columns]"
            ]
          },
          "metadata": {
            "tags": []
          },
          "execution_count": 11
        }
      ]
    },
    {
      "cell_type": "code",
      "metadata": {
        "id": "pbw_ub6wOIE1",
        "colab_type": "code",
        "outputId": "8c0a2c47-0614-44a0-d2ff-b2aec4a6b062",
        "colab": {
          "base_uri": "https://localhost:8080/",
          "height": 255
        }
      },
      "source": [
        "candy_data.isnull().sum()"
      ],
      "execution_count": 12,
      "outputs": [
        {
          "output_type": "execute_result",
          "data": {
            "text/plain": [
              "competitorname      0\n",
              "chocolate           0\n",
              "fruity              0\n",
              "caramel             0\n",
              "peanutyalmondy      0\n",
              "nougat              0\n",
              "crispedricewafer    0\n",
              "hard                0\n",
              "bar                 0\n",
              "pluribus            0\n",
              "sugarpercent        0\n",
              "pricepercent        0\n",
              "winpercent          0\n",
              "dtype: int64"
            ]
          },
          "metadata": {
            "tags": []
          },
          "execution_count": 12
        }
      ]
    },
    {
      "cell_type": "markdown",
      "metadata": {
        "id": "6mMecE0OYxcj",
        "colab_type": "text"
      },
      "source": [
        "3.1 Calculating and plotting heatmap correlation\n",
        "\n",
        "\n"
      ]
    },
    {
      "cell_type": "code",
      "metadata": {
        "id": "Fz5aM4ZhOSUM",
        "colab_type": "code",
        "outputId": "74e83ecd-0ed8-4d63-9316-be8d5e2fe3af",
        "colab": {
          "base_uri": "https://localhost:8080/",
          "height": 646
        }
      },
      "source": [
        "### Correlation between features\n",
        "corr = candy_data.corr()\n",
        "plt.figure(figsize=(10,10))\n",
        "sns.heatmap(corr,vmax=.8,linewidth=.01, square = True, annot = True,cmap='YlGnBu',linecolor ='black')\n",
        "plt.title('Correlation between features')"
      ],
      "execution_count": 13,
      "outputs": [
        {
          "output_type": "execute_result",
          "data": {
            "text/plain": [
              "Text(0.5, 1, 'Correlation between features')"
            ]
          },
          "metadata": {
            "tags": []
          },
          "execution_count": 13
        },
        {
          "output_type": "display_data",
          "data": {
            "image/png": "[encoded data removed]",
            "text/plain": [
              "<Figure size 720x720 with 2 Axes>"
            ]
          },
          "metadata": {
            "tags": []
          }
        }
      ]
    },
    {
      "cell_type": "markdown",
      "metadata": {
        "id": "Sv5hP7LOPOOl",
        "colab_type": "text"
      },
      "source": [
        "**Observations:**\n",
        "1. fruity flaver is showing nagetive correlation with chocolate\n",
        "2. fruity flaver is showing good correlation with pluribus and haed texture,that means good combination for candy.\n",
        "3. caramel having negative correlation with fruity and hard texture\n",
        "4. caramel having good combination with chocoalte,nouguts ,crispedrice waffers and bar\n",
        "5. peanutyalmandy shows good correlation with chocolate,nouguts ,crispedrice waffers and bar\n",
        "6.  peanutyalmandy shows negative correlation with candy type products.\n",
        "7. crispedrice waffers shows good combination with chocolate ,caramel and bar.\n",
        "8. crispedrice waffers shows nagative correlation with nougat,peanutyalmandy,fruity, pluribus,hard candy type material.\n",
        "9. hard texture shows negative correlation with  chocoalte,nouguts ,crispedrice waffers and bar, peanutyalmandy,caramel\n",
        "10. hard texture shows good combination with fruity flaver\n",
        "11. chocolate shows high winpercentage"
      ]
    },
    {
      "cell_type": "code",
      "metadata": {
        "id": "KM3bhtzP7K5d",
        "colab_type": "code",
        "outputId": "3911e8ad-7734-4f1c-e543-45cd0e885080",
        "colab": {
          "base_uri": "https://localhost:8080/",
          "height": 419
        }
      },
      "source": [
        "def corrank(X):\n",
        "    import itertools\n",
        "    df = pd.DataFrame([[i,j,X.corr().abs().loc[i,j]] for i,j in list(itertools.combinations(X.corr().abs(), 2))],columns=['Feature1','Feature2','corr'])    \n",
        "    return df.sort_values(by='corr',ascending=False).reset_index(drop=True)\n",
        "\n",
        "# prints a descending list of correlation pair (Max on top)\n",
        "display(corrank(candy_data))"
      ],
      "execution_count": 14,
      "outputs": [
        {
          "output_type": "display_data",
          "data": {
            "text/html": [
              "<div>\n",
              "<style scoped>\n",
              "    .dataframe tbody tr th:only-of-type {\n",
              "        vertical-align: middle;\n",
              "    }\n",
              "\n",
              "    .dataframe tbody tr th {\n",
              "        vertical-align: top;\n",
              "    }\n",
              "\n",
              "    .dataframe thead th {\n",
              "        text-align: right;\n",
              "    }\n",
              "</style>\n",
              "<table border=\"1\" class=\"dataframe\">\n",
              "  <thead>\n",
              "    <tr style=\"text-align: right;\">\n",
              "      <th></th>\n",
              "      <th>Feature1</th>\n",
              "      <th>Feature2</th>\n",
              "      <th>corr</th>\n",
              "    </tr>\n",
              "  </thead>\n",
              "  <tbody>\n",
              "    <tr>\n",
              "      <th>0</th>\n",
              "      <td>chocolate</td>\n",
              "      <td>fruity</td>\n",
              "      <td>0.741721</td>\n",
              "    </tr>\n",
              "    <tr>\n",
              "      <th>1</th>\n",
              "      <td>chocolate</td>\n",
              "      <td>winpercent</td>\n",
              "      <td>0.636517</td>\n",
              "    </tr>\n",
              "    <tr>\n",
              "      <th>2</th>\n",
              "      <td>chocolate</td>\n",
              "      <td>bar</td>\n",
              "      <td>0.597421</td>\n",
              "    </tr>\n",
              "    <tr>\n",
              "      <th>3</th>\n",
              "      <td>bar</td>\n",
              "      <td>pluribus</td>\n",
              "      <td>0.593409</td>\n",
              "    </tr>\n",
              "    <tr>\n",
              "      <th>4</th>\n",
              "      <td>nougat</td>\n",
              "      <td>bar</td>\n",
              "      <td>0.522976</td>\n",
              "    </tr>\n",
              "    <tr>\n",
              "      <th>...</th>\n",
              "      <td>...</td>\n",
              "      <td>...</td>\n",
              "      <td>...</td>\n",
              "    </tr>\n",
              "    <tr>\n",
              "      <th>61</th>\n",
              "      <td>caramel</td>\n",
              "      <td>peanutyalmondy</td>\n",
              "      <td>0.059356</td>\n",
              "    </tr>\n",
              "    <tr>\n",
              "      <th>62</th>\n",
              "      <td>pluribus</td>\n",
              "      <td>sugarpercent</td>\n",
              "      <td>0.045523</td>\n",
              "    </tr>\n",
              "    <tr>\n",
              "      <th>63</th>\n",
              "      <td>fruity</td>\n",
              "      <td>sugarpercent</td>\n",
              "      <td>0.034393</td>\n",
              "    </tr>\n",
              "    <tr>\n",
              "      <th>64</th>\n",
              "      <td>peanutyalmondy</td>\n",
              "      <td>crispedricewafer</td>\n",
              "      <td>0.017646</td>\n",
              "    </tr>\n",
              "    <tr>\n",
              "      <th>65</th>\n",
              "      <td>hard</td>\n",
              "      <td>pluribus</td>\n",
              "      <td>0.014532</td>\n",
              "    </tr>\n",
              "  </tbody>\n",
              "</table>\n",
              "<p>66 rows × 3 columns</p>\n",
              "</div>"
            ],
            "text/plain": [
              "          Feature1          Feature2      corr\n",
              "0        chocolate            fruity  0.741721\n",
              "1        chocolate        winpercent  0.636517\n",
              "2        chocolate               bar  0.597421\n",
              "3              bar          pluribus  0.593409\n",
              "4           nougat               bar  0.522976\n",
              "..             ...               ...       ...\n",
              "61         caramel    peanutyalmondy  0.059356\n",
              "62        pluribus      sugarpercent  0.045523\n",
              "63          fruity      sugarpercent  0.034393\n",
              "64  peanutyalmondy  crispedricewafer  0.017646\n",
              "65            hard          pluribus  0.014532\n",
              "\n",
              "[66 rows x 3 columns]"
            ]
          },
          "metadata": {
            "tags": []
          }
        }
      ]
    },
    {
      "cell_type": "code",
      "metadata": {
        "id": "FiqJBhxz7YKR",
        "colab_type": "code",
        "outputId": "bf149d95-6172-4a81-9659-2eb613a3e123",
        "colab": {
          "base_uri": "https://localhost:8080/",
          "height": 255
        }
      },
      "source": [
        "candy_data.isnull().sum()/len(candy_data)"
      ],
      "execution_count": 15,
      "outputs": [
        {
          "output_type": "execute_result",
          "data": {
            "text/plain": [
              "competitorname      0.0\n",
              "chocolate           0.0\n",
              "fruity              0.0\n",
              "caramel             0.0\n",
              "peanutyalmondy      0.0\n",
              "nougat              0.0\n",
              "crispedricewafer    0.0\n",
              "hard                0.0\n",
              "bar                 0.0\n",
              "pluribus            0.0\n",
              "sugarpercent        0.0\n",
              "pricepercent        0.0\n",
              "winpercent          0.0\n",
              "dtype: float64"
            ]
          },
          "metadata": {
            "tags": []
          },
          "execution_count": 15
        }
      ]
    },
    {
      "cell_type": "code",
      "metadata": {
        "id": "MLzKeyLg8lIM",
        "colab_type": "code",
        "colab": {}
      },
      "source": [
        "winners = candy_data[candy_data.winpercent>candy_data.winpercent.quantile(.6)]"
      ],
      "execution_count": 0,
      "outputs": []
    },
    {
      "cell_type": "code",
      "metadata": {
        "id": "VMhLHu098oZa",
        "colab_type": "code",
        "outputId": "5ce41ba3-9d0d-46de-c5fb-0ee9db424912",
        "colab": {
          "base_uri": "https://localhost:8080/",
          "height": 204
        }
      },
      "source": [
        "winners.head()"
      ],
      "execution_count": 17,
      "outputs": [
        {
          "output_type": "execute_result",
          "data": {
            "text/html": [
              "<div>\n",
              "<style scoped>\n",
              "    .dataframe tbody tr th:only-of-type {\n",
              "        vertical-align: middle;\n",
              "    }\n",
              "\n",
              "    .dataframe tbody tr th {\n",
              "        vertical-align: top;\n",
              "    }\n",
              "\n",
              "    .dataframe thead th {\n",
              "        text-align: right;\n",
              "    }\n",
              "</style>\n",
              "<table border=\"1\" class=\"dataframe\">\n",
              "  <thead>\n",
              "    <tr style=\"text-align: right;\">\n",
              "      <th></th>\n",
              "      <th>competitorname</th>\n",
              "      <th>chocolate</th>\n",
              "      <th>fruity</th>\n",
              "      <th>caramel</th>\n",
              "      <th>peanutyalmondy</th>\n",
              "      <th>nougat</th>\n",
              "      <th>crispedricewafer</th>\n",
              "      <th>hard</th>\n",
              "      <th>bar</th>\n",
              "      <th>pluribus</th>\n",
              "      <th>sugarpercent</th>\n",
              "      <th>pricepercent</th>\n",
              "      <th>winpercent</th>\n",
              "    </tr>\n",
              "  </thead>\n",
              "  <tbody>\n",
              "    <tr>\n",
              "      <th>0</th>\n",
              "      <td>100 grand</td>\n",
              "      <td>1</td>\n",
              "      <td>0</td>\n",
              "      <td>1</td>\n",
              "      <td>0</td>\n",
              "      <td>0</td>\n",
              "      <td>1</td>\n",
              "      <td>0</td>\n",
              "      <td>1</td>\n",
              "      <td>0</td>\n",
              "      <td>0.732</td>\n",
              "      <td>0.860</td>\n",
              "      <td>66.971725</td>\n",
              "    </tr>\n",
              "    <tr>\n",
              "      <th>1</th>\n",
              "      <td>3 musketeers</td>\n",
              "      <td>1</td>\n",
              "      <td>0</td>\n",
              "      <td>0</td>\n",
              "      <td>0</td>\n",
              "      <td>1</td>\n",
              "      <td>0</td>\n",
              "      <td>0</td>\n",
              "      <td>1</td>\n",
              "      <td>0</td>\n",
              "      <td>0.604</td>\n",
              "      <td>0.511</td>\n",
              "      <td>67.602936</td>\n",
              "    </tr>\n",
              "    <tr>\n",
              "      <th>6</th>\n",
              "      <td>baby ruth</td>\n",
              "      <td>1</td>\n",
              "      <td>0</td>\n",
              "      <td>1</td>\n",
              "      <td>1</td>\n",
              "      <td>1</td>\n",
              "      <td>0</td>\n",
              "      <td>0</td>\n",
              "      <td>1</td>\n",
              "      <td>0</td>\n",
              "      <td>0.604</td>\n",
              "      <td>0.767</td>\n",
              "      <td>56.914547</td>\n",
              "    </tr>\n",
              "    <tr>\n",
              "      <th>18</th>\n",
              "      <td>haribo gold bears</td>\n",
              "      <td>0</td>\n",
              "      <td>1</td>\n",
              "      <td>0</td>\n",
              "      <td>0</td>\n",
              "      <td>0</td>\n",
              "      <td>0</td>\n",
              "      <td>0</td>\n",
              "      <td>0</td>\n",
              "      <td>1</td>\n",
              "      <td>0.465</td>\n",
              "      <td>0.465</td>\n",
              "      <td>57.119740</td>\n",
              "    </tr>\n",
              "    <tr>\n",
              "      <th>22</th>\n",
              "      <td>hersheys kisses</td>\n",
              "      <td>1</td>\n",
              "      <td>0</td>\n",
              "      <td>0</td>\n",
              "      <td>0</td>\n",
              "      <td>0</td>\n",
              "      <td>0</td>\n",
              "      <td>0</td>\n",
              "      <td>0</td>\n",
              "      <td>1</td>\n",
              "      <td>0.127</td>\n",
              "      <td>0.093</td>\n",
              "      <td>55.375454</td>\n",
              "    </tr>\n",
              "  </tbody>\n",
              "</table>\n",
              "</div>"
            ],
            "text/plain": [
              "       competitorname  chocolate  ...  pricepercent  winpercent\n",
              "0           100 grand          1  ...         0.860   66.971725\n",
              "1        3 musketeers          1  ...         0.511   67.602936\n",
              "6           baby ruth          1  ...         0.767   56.914547\n",
              "18  haribo gold bears          0  ...         0.465   57.119740\n",
              "22    hersheys kisses          1  ...         0.093   55.375454\n",
              "\n",
              "[5 rows x 13 columns]"
            ]
          },
          "metadata": {
            "tags": []
          },
          "execution_count": 17
        }
      ]
    },
    {
      "cell_type": "markdown",
      "metadata": {
        "id": "nL5tRX6K-u2H",
        "colab_type": "text"
      },
      "source": [
        "3.2 **Univariate Analysis**"
      ]
    },
    {
      "cell_type": "code",
      "metadata": {
        "id": "TeRL-FgZ77_S",
        "colab_type": "code",
        "outputId": "e3f524ba-1bd5-47f3-f144-d8588cfb0ebe",
        "colab": {
          "base_uri": "https://localhost:8080/",
          "height": 318
        }
      },
      "source": [
        "### Univariate Analysis\n",
        "sns.boxplot(x=\"chocolate\", y=\"winpercent\", data=winners).set_title('Relation of Chocolate and Win Percent')"
      ],
      "execution_count": 18,
      "outputs": [
        {
          "output_type": "execute_result",
          "data": {
            "text/plain": [
              "Text(0.5, 1.0, 'Relation of Chocolate and Win Percent')"
            ]
          },
          "metadata": {
            "tags": []
          },
          "execution_count": 18
        },
        {
          "output_type": "display_data",
          "data": {
            "image/png": "[encoded data removed]",
            "text/plain": [
              "<Figure size 432x288 with 1 Axes>"
            ]
          },
          "metadata": {
            "tags": []
          }
        }
      ]
    },
    {
      "cell_type": "markdown",
      "metadata": {
        "id": "siRzAp539akt",
        "colab_type": "text"
      },
      "source": [
        "Inference:- From the above plot we can say that more than 60% of the population likes Chocolate so it might be important parameter."
      ]
    },
    {
      "cell_type": "code",
      "metadata": {
        "id": "lPy9To5A9c-R",
        "colab_type": "code",
        "outputId": "d42fcb17-9f19-4e02-9817-16d86f2184d7",
        "colab": {
          "base_uri": "https://localhost:8080/",
          "height": 318
        }
      },
      "source": [
        "sns.boxplot(x=\"fruity\", y=\"winpercent\", data=winners).set_title('Relation of Fruity and Win Percent')"
      ],
      "execution_count": 19,
      "outputs": [
        {
          "output_type": "execute_result",
          "data": {
            "text/plain": [
              "Text(0.5, 1.0, 'Relation of Fruity and Win Percent')"
            ]
          },
          "metadata": {
            "tags": []
          },
          "execution_count": 19
        },
        {
          "output_type": "display_data",
          "data": {
            "image/png": "[encoded data removed]",
            "text/plain": [
              "<Figure size 432x288 with 1 Axes>"
            ]
          },
          "metadata": {
            "tags": []
          }
        }
      ]
    },
    {
      "cell_type": "markdown",
      "metadata": {
        "id": "dX-Op6_U94eD",
        "colab_type": "text"
      },
      "source": [
        "Inference:- From the above plot we can say that more than 60% of the population likes Fruity so it might be important parameter."
      ]
    },
    {
      "cell_type": "code",
      "metadata": {
        "id": "uf5azAm596Sj",
        "colab_type": "code",
        "outputId": "c755b635-1438-49b0-9dfa-d8078019b4b8",
        "colab": {
          "base_uri": "https://localhost:8080/",
          "height": 301
        }
      },
      "source": [
        "sns.boxplot(x=\"caramel\", y=\"winpercent\", data=winners).set_title('Relation of Caramel and Win Percent');"
      ],
      "execution_count": 20,
      "outputs": [
        {
          "output_type": "display_data",
          "data": {
            "image/png": "[encoded data removed]",
            "text/plain": [
              "<Figure size 432x288 with 1 Axes>"
            ]
          },
          "metadata": {
            "tags": []
          }
        }
      ]
    },
    {
      "cell_type": "markdown",
      "metadata": {
        "id": "Ui5QjWBQ-OAU",
        "colab_type": "text"
      },
      "source": [
        "Inference:- From the above plot we can say that more than 60% of the population likes Caramel so it might be important parameter."
      ]
    },
    {
      "cell_type": "code",
      "metadata": {
        "id": "Jefd6M2M-QGf",
        "colab_type": "code",
        "outputId": "216dbc70-36a2-4bc8-9dfd-25ba55ffa71a",
        "colab": {
          "base_uri": "https://localhost:8080/",
          "height": 301
        }
      },
      "source": [
        "sns.boxplot(x=\"peanutyalmondy\", y=\"winpercent\", data=winners).set_title('Relation of Peanut/Almond and Win Percent');"
      ],
      "execution_count": 21,
      "outputs": [
        {
          "output_type": "display_data",
          "data": {
            "image/png": "[encoded data removed]",
            "text/plain": [
              "<Figure size 432x288 with 1 Axes>"
            ]
          },
          "metadata": {
            "tags": []
          }
        }
      ]
    },
    {
      "cell_type": "markdown",
      "metadata": {
        "id": "pTwLF1WB-Fan",
        "colab_type": "text"
      },
      "source": [
        "Inference:- From the above plot we can say that more than 60% of the population likes Peanut/Almond so it might be important parameter.\n",
        "\n"
      ]
    },
    {
      "cell_type": "code",
      "metadata": {
        "id": "ViCwcwT1-stL",
        "colab_type": "code",
        "outputId": "1bbd8f2c-43ba-4ccd-ad33-c5f893456f85",
        "colab": {
          "base_uri": "https://localhost:8080/",
          "height": 301
        }
      },
      "source": [
        "sns.boxplot(x=\"nougat\", y=\"winpercent\", data=winners).set_title('Relation of Nougat and Win Percent');"
      ],
      "execution_count": 22,
      "outputs": [
        {
          "output_type": "display_data",
          "data": {
            "image/png": "[encoded data removed]",
            "text/plain": [
              "<Figure size 432x288 with 1 Axes>"
            ]
          },
          "metadata": {
            "tags": []
          }
        }
      ]
    },
    {
      "cell_type": "markdown",
      "metadata": {
        "id": "9DuNoigT-4LQ",
        "colab_type": "text"
      },
      "source": [
        "Inference:- From the above plot we can say that more than 60% of the population likes Nougat so it might be important parameter."
      ]
    },
    {
      "cell_type": "code",
      "metadata": {
        "id": "cP5Mp9xU_EHh",
        "colab_type": "code",
        "outputId": "86f437f5-a78a-44f9-bc85-750439a3a4f0",
        "colab": {
          "base_uri": "https://localhost:8080/",
          "height": 301
        }
      },
      "source": [
        "sns.boxplot(x=\"crispedricewafer\", y=\"winpercent\", data=winners).set_title('Relation of Wafer and Win Percent');"
      ],
      "execution_count": 23,
      "outputs": [
        {
          "output_type": "display_data",
          "data": {
            "image/png": "[encoded data removed]",
            "text/plain": [
              "<Figure size 432x288 with 1 Axes>"
            ]
          },
          "metadata": {
            "tags": []
          }
        }
      ]
    },
    {
      "cell_type": "markdown",
      "metadata": {
        "id": "Gz9Fz3lX_S3S",
        "colab_type": "text"
      },
      "source": [
        "Inference:- From the above plot we can say that more than 60% of the population likes Wafer so it might be important parameter."
      ]
    },
    {
      "cell_type": "code",
      "metadata": {
        "id": "4aRRmi-f_auN",
        "colab_type": "code",
        "outputId": "b504895e-5adb-4f7e-98ad-90115235d901",
        "colab": {
          "base_uri": "https://localhost:8080/",
          "height": 301
        }
      },
      "source": [
        "sns.boxplot(x=\"hard\", y=\"winpercent\", data=winners).set_title('Relation of Hardness of Candy and Win Percent');"
      ],
      "execution_count": 24,
      "outputs": [
        {
          "output_type": "display_data",
          "data": {
            "image/png": "[encoded data removed]",
            "text/plain": [
              "<Figure size 432x288 with 1 Axes>"
            ]
          },
          "metadata": {
            "tags": []
          }
        }
      ]
    },
    {
      "cell_type": "markdown",
      "metadata": {
        "id": "R6WLA_f6_zK-",
        "colab_type": "text"
      },
      "source": [
        "Inference:- From the above plot we can say that more than 60% of the population likes Soft Candies so it might be important parameter."
      ]
    },
    {
      "cell_type": "code",
      "metadata": {
        "id": "XAMNEvgM_0-S",
        "colab_type": "code",
        "outputId": "57cb51d7-2292-4742-cbb2-6474a7c7eaaf",
        "colab": {
          "base_uri": "https://localhost:8080/",
          "height": 301
        }
      },
      "source": [
        "sns.boxplot(x=\"bar\", y=\"winpercent\", data=winners).set_title('Relation of Bar and Win Percent');"
      ],
      "execution_count": 25,
      "outputs": [
        {
          "output_type": "display_data",
          "data": {
            "image/png": "[encoded data removed]",
            "text/plain": [
              "<Figure size 432x288 with 1 Axes>"
            ]
          },
          "metadata": {
            "tags": []
          }
        }
      ]
    },
    {
      "cell_type": "markdown",
      "metadata": {
        "id": "76oRmzSjAHbl",
        "colab_type": "text"
      },
      "source": [
        "Inference:- From the above plot we can say that more than 60% of the population likes Bar.\n",
        "\n",
        "But the confidence boundy is very less to reach out to a clear conlusion."
      ]
    },
    {
      "cell_type": "code",
      "metadata": {
        "id": "lXRH4KtDAHrZ",
        "colab_type": "code",
        "outputId": "de1e08ca-dd04-4261-c7aa-883cde385ff4",
        "colab": {
          "base_uri": "https://localhost:8080/",
          "height": 301
        }
      },
      "source": [
        "sns.boxplot(x=\"pluribus\", y=\"winpercent\", data=winners).set_title('Relation of Pluribus and Win Percent');"
      ],
      "execution_count": 26,
      "outputs": [
        {
          "output_type": "display_data",
          "data": {
            "image/png": "[encoded data removed]",
            "text/plain": [
              "<Figure size 432x288 with 1 Axes>"
            ]
          },
          "metadata": {
            "tags": []
          }
        }
      ]
    },
    {
      "cell_type": "markdown",
      "metadata": {
        "id": "PMjVB__EAH6V",
        "colab_type": "text"
      },
      "source": [
        "Inference:- From the above plot we can say that less than 60% of the population do not likes Bapluribus."
      ]
    },
    {
      "cell_type": "markdown",
      "metadata": {
        "id": "zuv_TlApAwFi",
        "colab_type": "text"
      },
      "source": [
        "3.3 **Bivariate Analysis**\n",
        "\n"
      ]
    },
    {
      "cell_type": "code",
      "metadata": {
        "id": "PDku3gzkAvHE",
        "colab_type": "code",
        "outputId": "2b77d61a-c59e-4f0d-9738-f44b8736c381",
        "colab": {
          "base_uri": "https://localhost:8080/",
          "height": 163
        }
      },
      "source": [
        "sns.jointplot(x=\"sugarpercent\", y=\"winpercent\", data=winners,kind=\"kde\",stat_func=spearmanr)"
      ],
      "execution_count": 27,
      "outputs": [
        {
          "output_type": "error",
          "ename": "NameError",
          "evalue": "ignored",
          "traceback": [
            "\u001b[0;31m---------------------------------------------------------------------------\u001b[0m",
            "\u001b[0;31mNameError\u001b[0m                                 Traceback (most recent call last)",
            "\u001b[0;32m<ipython-input-27-0542091f0543>\u001b[0m in \u001b[0;36m<module>\u001b[0;34m()\u001b[0m\n\u001b[0;32m----> 1\u001b[0;31m \u001b[0msns\u001b[0m\u001b[0;34m.\u001b[0m\u001b[0mjointplot\u001b[0m\u001b[0;34m(\u001b[0m\u001b[0mx\u001b[0m\u001b[0;34m=\u001b[0m\u001b[0;34m\"sugarpercent\"\u001b[0m\u001b[0;34m,\u001b[0m \u001b[0my\u001b[0m\u001b[0;34m=\u001b[0m\u001b[0;34m\"winpercent\"\u001b[0m\u001b[0;34m,\u001b[0m \u001b[0mdata\u001b[0m\u001b[0;34m=\u001b[0m\u001b[0mwinners\u001b[0m\u001b[0;34m,\u001b[0m\u001b[0mkind\u001b[0m\u001b[0;34m=\u001b[0m\u001b[0;34m\"kde\"\u001b[0m\u001b[0;34m,\u001b[0m\u001b[0mstat_func\u001b[0m\u001b[0;34m=\u001b[0m\u001b[0mspearmanr\u001b[0m\u001b[0;34m)\u001b[0m\u001b[0;34m\u001b[0m\u001b[0;34m\u001b[0m\u001b[0m\n\u001b[0m",
            "\u001b[0;31mNameError\u001b[0m: name 'spearmanr' is not defined"
          ]
        }
      ]
    },
    {
      "cell_type": "markdown",
      "metadata": {
        "id": "AepNhYERBW22",
        "colab_type": "text"
      },
      "source": [
        "Linearity of Sugar and Win Percent:- The above plot proves the alternative hypothesis that sugar percentage is not linear to the popularity of the candy i.e. sugar content of candy doesn't contribute to the popularity of the candy."
      ]
    },
    {
      "cell_type": "code",
      "metadata": {
        "id": "KrWG95xhBM3f",
        "colab_type": "code",
        "outputId": "8c64f555-f77a-4f7a-ea97-32e76ced2a3e",
        "colab": {
          "base_uri": "https://localhost:8080/",
          "height": 488
        }
      },
      "source": [
        "from scipy.stats import spearmanr\n",
        "sns.jointplot(x=\"pricepercent\", y=\"winpercent\", data=winners,kind=\"kde\",stat_func=spearmanr)"
      ],
      "execution_count": 28,
      "outputs": [
        {
          "output_type": "stream",
          "text": [
            "/usr/local/lib/python3.6/dist-packages/seaborn/axisgrid.py:1847: UserWarning: JointGrid annotation is deprecated and will be removed in a future release.\n",
            "  warnings.warn(UserWarning(msg))\n"
          ],
          "name": "stderr"
        },
        {
          "output_type": "execute_result",
          "data": {
            "text/plain": [
              "<seaborn.axisgrid.JointGrid at 0x7f8690a91cc0>"
            ]
          },
          "metadata": {
            "tags": []
          },
          "execution_count": 28
        },
        {
          "output_type": "display_data",
          "data": {
            "image/png": "[encoded data removed]",
            "text/plain": [
              "<Figure size 432x432 with 3 Axes>"
            ]
          },
          "metadata": {
            "tags": []
          }
        }
      ]
    },
    {
      "cell_type": "markdown",
      "metadata": {
        "id": "HKLdsEz-Bjs6",
        "colab_type": "text"
      },
      "source": [
        "Linearity of Price and Win Percent The above plot proves the alternative hypothesis that price percentage is not linear to the popularity of the candy i.e. cost of candy doesn't contribute to the popularity of the candy."
      ]
    },
    {
      "cell_type": "markdown",
      "metadata": {
        "id": "edmDekNuBzHs",
        "colab_type": "text"
      },
      "source": [
        "3.4 **Most Popular and Least Popular Candies**\n",
        "\n"
      ]
    },
    {
      "cell_type": "code",
      "metadata": {
        "id": "7sm7zwlzB_d0",
        "colab_type": "code",
        "outputId": "77130dca-24e8-4eec-9f95-ca190cce4196",
        "colab": {
          "base_uri": "https://localhost:8080/",
          "height": 355
        }
      },
      "source": [
        "popularity = candy_data[['competitorname','winpercent']].sort_values(by='winpercent')\n",
        "pd.concat([popularity.head(5),popularity.tail(5)],axis=0).plot(x='competitorname',y='winpercent',kind='barh',title='Popularity of various candies',sort_columns=True,figsize = (10,5),legend=False)"
      ],
      "execution_count": 29,
      "outputs": [
        {
          "output_type": "execute_result",
          "data": {
            "text/plain": [
              "<matplotlib.axes._subplots.AxesSubplot at 0x7f8690ab39e8>"
            ]
          },
          "metadata": {
            "tags": []
          },
          "execution_count": 29
        },
        {
          "output_type": "display_data",
          "data": {
            "image/png": "[encoded data removed]",
            "text/plain": [
              "<Figure size 720x360 with 1 Axes>"
            ]
          },
          "metadata": {
            "tags": []
          }
        }
      ]
    },
    {
      "cell_type": "markdown",
      "metadata": {
        "id": "RWW3zSAuZcJ_",
        "colab_type": "text"
      },
      "source": [
        "3.5 **Visualising Pairwise correlation**"
      ]
    },
    {
      "cell_type": "code",
      "metadata": {
        "id": "EiM5hGYer94T",
        "colab_type": "code",
        "outputId": "feeea356-1e7d-4a65-b100-fa46b4c6e44d",
        "colab": {
          "base_uri": "https://localhost:8080/",
          "height": 1000
        }
      },
      "source": [
        "sns.pairplot(candy_data, size = 2, aspect = 1.5)\n"
      ],
      "execution_count": 30,
      "outputs": [
        {
          "output_type": "stream",
          "text": [
            "/usr/local/lib/python3.6/dist-packages/seaborn/axisgrid.py:2065: UserWarning: The `size` parameter has been renamed to `height`; pleaes update your code.\n",
            "  warnings.warn(msg, UserWarning)\n"
          ],
          "name": "stderr"
        },
        {
          "output_type": "execute_result",
          "data": {
            "text/plain": [
              "<seaborn.axisgrid.PairGrid at 0x7f8692ab4438>"
            ]
          },
          "metadata": {
            "tags": []
          },
          "execution_count": 30
        },
        {
          "output_type": "display_data",
          "data": {
            "image/png": "[encoded data removed]",
            "text/plain": [
              "<Figure size 2592x1728 with 156 Axes>"
            ]
          },
          "metadata": {
            "tags": []
          }
        }
      ]
    },
    {
      "cell_type": "markdown",
      "metadata": {
        "id": "dOgfrtY8AgoJ",
        "colab_type": "text"
      },
      "source": [
        " **4.1 Linear Regression Equation with Errors in consideration**"
      ]
    },
    {
      "cell_type": "markdown",
      "metadata": {
        "id": "aj4atqPhZ1w5",
        "colab_type": "text"
      },
      "source": [
        "**4.2 Preparing X and y using pandas**"
      ]
    },
    {
      "cell_type": "code",
      "metadata": {
        "id": "uRL8vtg8yBy2",
        "colab_type": "code",
        "colab": {}
      },
      "source": [
        "# use the list to select a subset of the original DataFrame-+\n",
        "feature_cols = ['chocolate','fruity','caramel','peanutyalmondy','nougat','crispedricewafer','hard','bar','pluribus','sugarpercent','pricepercent']                # create a Python list of feature names\n",
        "X = candy_data[feature_cols]             "
      ],
      "execution_count": 0,
      "outputs": []
    },
    {
      "cell_type": "code",
      "metadata": {
        "id": "t-z22SDyzvHf",
        "colab_type": "code",
        "outputId": "9b57ad3b-a192-4c71-feed-a5e7c2a236d7",
        "colab": {
          "base_uri": "https://localhost:8080/",
          "height": 51
        }
      },
      "source": [
        "print(type(X))\n",
        "print(X.shape)"
      ],
      "execution_count": 32,
      "outputs": [
        {
          "output_type": "stream",
          "text": [
            "<class 'pandas.core.frame.DataFrame'>\n",
            "(85, 11)\n"
          ],
          "name": "stdout"
        }
      ]
    },
    {
      "cell_type": "code",
      "metadata": {
        "id": "-S4PB4Tmz4kO",
        "colab_type": "code",
        "outputId": "19bb2a53-bb73-45c1-9ff4-f22fcd38579c",
        "colab": {
          "base_uri": "https://localhost:8080/",
          "height": 119
        }
      },
      "source": [
        "Y = candy_data.winpercent\n",
        "Y.head()"
      ],
      "execution_count": 33,
      "outputs": [
        {
          "output_type": "execute_result",
          "data": {
            "text/plain": [
              "0    66.971725\n",
              "1    67.602936\n",
              "2    32.261086\n",
              "3    46.116505\n",
              "4    52.341465\n",
              "Name: winpercent, dtype: float64"
            ]
          },
          "metadata": {
            "tags": []
          },
          "execution_count": 33
        }
      ]
    },
    {
      "cell_type": "code",
      "metadata": {
        "id": "SIh_sq0E3tfq",
        "colab_type": "code",
        "outputId": "1e377da8-2127-41f9-9e09-7f2153a96740",
        "colab": {
          "base_uri": "https://localhost:8080/",
          "height": 51
        }
      },
      "source": [
        "print(type(Y))\n",
        "print(Y.shape)"
      ],
      "execution_count": 34,
      "outputs": [
        {
          "output_type": "stream",
          "text": [
            "<class 'pandas.core.series.Series'>\n",
            "(85,)\n"
          ],
          "name": "stdout"
        }
      ]
    },
    {
      "cell_type": "markdown",
      "metadata": {
        "id": "63KhhCYEaz5Q",
        "colab_type": "text"
      },
      "source": [
        "**4.3 Splitting X and y into training and test datasets.**"
      ]
    },
    {
      "cell_type": "code",
      "metadata": {
        "id": "mvyqTFZn4mXi",
        "colab_type": "code",
        "colab": {}
      },
      "source": [
        "candy_data.to_csv(\"datasump.csv\")"
      ],
      "execution_count": 0,
      "outputs": []
    },
    {
      "cell_type": "code",
      "metadata": {
        "id": "eyAub1685lpa",
        "colab_type": "code",
        "colab": {}
      },
      "source": [
        "from sklearn.model_selection import train_test_split\n",
        "\n",
        "def split(X,Y):\n",
        "    return train_test_split(X, Y, test_size=0.20, random_state=1)"
      ],
      "execution_count": 0,
      "outputs": []
    },
    {
      "cell_type": "code",
      "metadata": {
        "id": "QxXldivq5uDI",
        "colab_type": "code",
        "outputId": "4ca13c4d-ecae-45c1-d43c-bed02b774cdb",
        "colab": {
          "base_uri": "https://localhost:8080/",
          "height": 136
        }
      },
      "source": [
        "X_train, X_test, Y_train, Y_test=split(X,Y)\n",
        "print('Train cases as below')\n",
        "print('X_train shape: ',X_train.shape)\n",
        "print('Y_train shape: ',Y_train.shape)\n",
        "print('\\nTest cases as below')\n",
        "print('X_test shape: ',X_test.shape)\n",
        "print('Y_test shape: ',Y_test.shape)"
      ],
      "execution_count": 37,
      "outputs": [
        {
          "output_type": "stream",
          "text": [
            "Train cases as below\n",
            "X_train shape:  (68, 11)\n",
            "Y_train shape:  (68,)\n",
            "\n",
            "Test cases as below\n",
            "X_test shape:  (17, 11)\n",
            "Y_test shape:  (17,)\n"
          ],
          "name": "stdout"
        }
      ]
    },
    {
      "cell_type": "code",
      "metadata": {
        "id": "4_2vLTNw6EHz",
        "colab_type": "code",
        "outputId": "fcb9bf16-b173-4db9-c48d-31c705d50ab2",
        "colab": {
          "base_uri": "https://localhost:8080/",
          "height": 105
        }
      },
      "source": [
        "X_train.to_csv(\"datasump_xtrain.csv\") \n",
        "X_test.to_csv(\"datasump_xtest.csv\") \n",
        "Y_train.to_csv(\"datasump_ytrain.csv\")\n",
        "Y_test.to_csv(\"datasump_ytest.csv\")"
      ],
      "execution_count": 38,
      "outputs": [
        {
          "output_type": "stream",
          "text": [
            "/usr/local/lib/python3.6/dist-packages/ipykernel_launcher.py:3: FutureWarning: The signature of `Series.to_csv` was aligned to that of `DataFrame.to_csv`, and argument 'header' will change its default value from False to True: please pass an explicit value to suppress this warning.\n",
            "  This is separate from the ipykernel package so we can avoid doing imports until\n",
            "/usr/local/lib/python3.6/dist-packages/ipykernel_launcher.py:4: FutureWarning: The signature of `Series.to_csv` was aligned to that of `DataFrame.to_csv`, and argument 'header' will change its default value from False to True: please pass an explicit value to suppress this warning.\n",
            "  after removing the cwd from sys.path.\n"
          ],
          "name": "stderr"
        }
      ]
    },
    {
      "cell_type": "code",
      "metadata": {
        "id": "IuOXMVgm6aB5",
        "colab_type": "code",
        "outputId": "2cfe06f4-9e45-4f35-8532-93e7e89ad4ac",
        "colab": {
          "base_uri": "https://localhost:8080/",
          "height": 419
        }
      },
      "source": [
        "X_train"
      ],
      "execution_count": 39,
      "outputs": [
        {
          "output_type": "execute_result",
          "data": {
            "text/html": [
              "<div>\n",
              "<style scoped>\n",
              "    .dataframe tbody tr th:only-of-type {\n",
              "        vertical-align: middle;\n",
              "    }\n",
              "\n",
              "    .dataframe tbody tr th {\n",
              "        vertical-align: top;\n",
              "    }\n",
              "\n",
              "    .dataframe thead th {\n",
              "        text-align: right;\n",
              "    }\n",
              "</style>\n",
              "<table border=\"1\" class=\"dataframe\">\n",
              "  <thead>\n",
              "    <tr style=\"text-align: right;\">\n",
              "      <th></th>\n",
              "      <th>chocolate</th>\n",
              "      <th>fruity</th>\n",
              "      <th>caramel</th>\n",
              "      <th>peanutyalmondy</th>\n",
              "      <th>nougat</th>\n",
              "      <th>crispedricewafer</th>\n",
              "      <th>hard</th>\n",
              "      <th>bar</th>\n",
              "      <th>pluribus</th>\n",
              "      <th>sugarpercent</th>\n",
              "      <th>pricepercent</th>\n",
              "    </tr>\n",
              "  </thead>\n",
              "  <tbody>\n",
              "    <tr>\n",
              "      <th>35</th>\n",
              "      <td>1</td>\n",
              "      <td>0</td>\n",
              "      <td>1</td>\n",
              "      <td>0</td>\n",
              "      <td>0</td>\n",
              "      <td>0</td>\n",
              "      <td>0</td>\n",
              "      <td>0</td>\n",
              "      <td>1</td>\n",
              "      <td>0.302</td>\n",
              "      <td>0.511</td>\n",
              "    </tr>\n",
              "    <tr>\n",
              "      <th>68</th>\n",
              "      <td>0</td>\n",
              "      <td>1</td>\n",
              "      <td>0</td>\n",
              "      <td>0</td>\n",
              "      <td>0</td>\n",
              "      <td>0</td>\n",
              "      <td>0</td>\n",
              "      <td>0</td>\n",
              "      <td>1</td>\n",
              "      <td>0.151</td>\n",
              "      <td>0.220</td>\n",
              "    </tr>\n",
              "    <tr>\n",
              "      <th>45</th>\n",
              "      <td>0</td>\n",
              "      <td>1</td>\n",
              "      <td>0</td>\n",
              "      <td>0</td>\n",
              "      <td>0</td>\n",
              "      <td>0</td>\n",
              "      <td>0</td>\n",
              "      <td>0</td>\n",
              "      <td>1</td>\n",
              "      <td>0.220</td>\n",
              "      <td>0.325</td>\n",
              "    </tr>\n",
              "    <tr>\n",
              "      <th>19</th>\n",
              "      <td>0</td>\n",
              "      <td>0</td>\n",
              "      <td>0</td>\n",
              "      <td>0</td>\n",
              "      <td>0</td>\n",
              "      <td>0</td>\n",
              "      <td>0</td>\n",
              "      <td>0</td>\n",
              "      <td>1</td>\n",
              "      <td>0.465</td>\n",
              "      <td>0.465</td>\n",
              "    </tr>\n",
              "    <tr>\n",
              "      <th>79</th>\n",
              "      <td>1</td>\n",
              "      <td>0</td>\n",
              "      <td>1</td>\n",
              "      <td>0</td>\n",
              "      <td>0</td>\n",
              "      <td>1</td>\n",
              "      <td>0</td>\n",
              "      <td>1</td>\n",
              "      <td>0</td>\n",
              "      <td>0.546</td>\n",
              "      <td>0.906</td>\n",
              "    </tr>\n",
              "    <tr>\n",
              "      <th>...</th>\n",
              "      <td>...</td>\n",
              "      <td>...</td>\n",
              "      <td>...</td>\n",
              "      <td>...</td>\n",
              "      <td>...</td>\n",
              "      <td>...</td>\n",
              "      <td>...</td>\n",
              "      <td>...</td>\n",
              "      <td>...</td>\n",
              "      <td>...</td>\n",
              "      <td>...</td>\n",
              "    </tr>\n",
              "    <tr>\n",
              "      <th>75</th>\n",
              "      <td>1</td>\n",
              "      <td>0</td>\n",
              "      <td>0</td>\n",
              "      <td>0</td>\n",
              "      <td>0</td>\n",
              "      <td>0</td>\n",
              "      <td>0</td>\n",
              "      <td>0</td>\n",
              "      <td>0</td>\n",
              "      <td>0.313</td>\n",
              "      <td>0.511</td>\n",
              "    </tr>\n",
              "    <tr>\n",
              "      <th>9</th>\n",
              "      <td>0</td>\n",
              "      <td>1</td>\n",
              "      <td>1</td>\n",
              "      <td>0</td>\n",
              "      <td>0</td>\n",
              "      <td>0</td>\n",
              "      <td>0</td>\n",
              "      <td>0</td>\n",
              "      <td>0</td>\n",
              "      <td>0.604</td>\n",
              "      <td>0.325</td>\n",
              "    </tr>\n",
              "    <tr>\n",
              "      <th>72</th>\n",
              "      <td>0</td>\n",
              "      <td>1</td>\n",
              "      <td>0</td>\n",
              "      <td>0</td>\n",
              "      <td>0</td>\n",
              "      <td>0</td>\n",
              "      <td>0</td>\n",
              "      <td>0</td>\n",
              "      <td>0</td>\n",
              "      <td>0.162</td>\n",
              "      <td>0.116</td>\n",
              "    </tr>\n",
              "    <tr>\n",
              "      <th>12</th>\n",
              "      <td>0</td>\n",
              "      <td>1</td>\n",
              "      <td>0</td>\n",
              "      <td>0</td>\n",
              "      <td>0</td>\n",
              "      <td>0</td>\n",
              "      <td>0</td>\n",
              "      <td>0</td>\n",
              "      <td>1</td>\n",
              "      <td>0.046</td>\n",
              "      <td>0.325</td>\n",
              "    </tr>\n",
              "    <tr>\n",
              "      <th>37</th>\n",
              "      <td>1</td>\n",
              "      <td>0</td>\n",
              "      <td>1</td>\n",
              "      <td>0</td>\n",
              "      <td>1</td>\n",
              "      <td>0</td>\n",
              "      <td>0</td>\n",
              "      <td>1</td>\n",
              "      <td>0</td>\n",
              "      <td>0.732</td>\n",
              "      <td>0.441</td>\n",
              "    </tr>\n",
              "  </tbody>\n",
              "</table>\n",
              "<p>68 rows × 11 columns</p>\n",
              "</div>"
            ],
            "text/plain": [
              "    chocolate  fruity  caramel  ...  pluribus  sugarpercent  pricepercent\n",
              "35          1       0        1  ...         1         0.302         0.511\n",
              "68          0       1        0  ...         1         0.151         0.220\n",
              "45          0       1        0  ...         1         0.220         0.325\n",
              "19          0       0        0  ...         1         0.465         0.465\n",
              "79          1       0        1  ...         0         0.546         0.906\n",
              "..        ...     ...      ...  ...       ...           ...           ...\n",
              "75          1       0        0  ...         0         0.313         0.511\n",
              "9           0       1        1  ...         0         0.604         0.325\n",
              "72          0       1        0  ...         0         0.162         0.116\n",
              "12          0       1        0  ...         1         0.046         0.325\n",
              "37          1       0        1  ...         0         0.732         0.441\n",
              "\n",
              "[68 rows x 11 columns]"
            ]
          },
          "metadata": {
            "tags": []
          },
          "execution_count": 39
        }
      ]
    },
    {
      "cell_type": "code",
      "metadata": {
        "id": "kTStC6Qo6NiT",
        "colab_type": "code",
        "outputId": "bdd6b823-fdb2-4ad7-9eb3-bb39838adb6c",
        "colab": {
          "base_uri": "https://localhost:8080/",
          "height": 323
        }
      },
      "source": [
        "Y_test"
      ],
      "execution_count": 40,
      "outputs": [
        {
          "output_type": "execute_result",
          "data": {
            "text/plain": [
              "38    64.353340\n",
              "44    22.445341\n",
              "27    57.219250\n",
              "40    54.526451\n",
              "36    73.099556\n",
              "80    45.466282\n",
              "58    42.849144\n",
              "69    34.578991\n",
              "84    49.524113\n",
              "56    65.716286\n",
              "67    52.825947\n",
              "53    73.434990\n",
              "48    37.722336\n",
              "66    59.863998\n",
              "63    45.995827\n",
              "10    38.975037\n",
              "2     32.261086\n",
              "Name: winpercent, dtype: float64"
            ]
          },
          "metadata": {
            "tags": []
          },
          "execution_count": 40
        }
      ]
    },
    {
      "cell_type": "code",
      "metadata": {
        "id": "7j5PRura88ye",
        "colab_type": "code",
        "outputId": "4f337a8d-932c-4d1a-bcba-af45e71a8ce3",
        "colab": {
          "base_uri": "https://localhost:8080/",
          "height": 576
        }
      },
      "source": [
        "X_test"
      ],
      "execution_count": 41,
      "outputs": [
        {
          "output_type": "execute_result",
          "data": {
            "text/html": [
              "<div>\n",
              "<style scoped>\n",
              "    .dataframe tbody tr th:only-of-type {\n",
              "        vertical-align: middle;\n",
              "    }\n",
              "\n",
              "    .dataframe tbody tr th {\n",
              "        vertical-align: top;\n",
              "    }\n",
              "\n",
              "    .dataframe thead th {\n",
              "        text-align: right;\n",
              "    }\n",
              "</style>\n",
              "<table border=\"1\" class=\"dataframe\">\n",
              "  <thead>\n",
              "    <tr style=\"text-align: right;\">\n",
              "      <th></th>\n",
              "      <th>chocolate</th>\n",
              "      <th>fruity</th>\n",
              "      <th>caramel</th>\n",
              "      <th>peanutyalmondy</th>\n",
              "      <th>nougat</th>\n",
              "      <th>crispedricewafer</th>\n",
              "      <th>hard</th>\n",
              "      <th>bar</th>\n",
              "      <th>pluribus</th>\n",
              "      <th>sugarpercent</th>\n",
              "      <th>pricepercent</th>\n",
              "    </tr>\n",
              "  </thead>\n",
              "  <tbody>\n",
              "    <tr>\n",
              "      <th>38</th>\n",
              "      <td>1</td>\n",
              "      <td>0</td>\n",
              "      <td>1</td>\n",
              "      <td>0</td>\n",
              "      <td>0</td>\n",
              "      <td>0</td>\n",
              "      <td>0</td>\n",
              "      <td>1</td>\n",
              "      <td>0</td>\n",
              "      <td>0.965</td>\n",
              "      <td>0.860</td>\n",
              "    </tr>\n",
              "    <tr>\n",
              "      <th>44</th>\n",
              "      <td>0</td>\n",
              "      <td>1</td>\n",
              "      <td>0</td>\n",
              "      <td>0</td>\n",
              "      <td>0</td>\n",
              "      <td>0</td>\n",
              "      <td>0</td>\n",
              "      <td>0</td>\n",
              "      <td>1</td>\n",
              "      <td>0.197</td>\n",
              "      <td>0.976</td>\n",
              "    </tr>\n",
              "    <tr>\n",
              "      <th>27</th>\n",
              "      <td>1</td>\n",
              "      <td>0</td>\n",
              "      <td>0</td>\n",
              "      <td>0</td>\n",
              "      <td>0</td>\n",
              "      <td>0</td>\n",
              "      <td>0</td>\n",
              "      <td>0</td>\n",
              "      <td>1</td>\n",
              "      <td>0.197</td>\n",
              "      <td>0.511</td>\n",
              "    </tr>\n",
              "    <tr>\n",
              "      <th>40</th>\n",
              "      <td>1</td>\n",
              "      <td>0</td>\n",
              "      <td>0</td>\n",
              "      <td>1</td>\n",
              "      <td>0</td>\n",
              "      <td>0</td>\n",
              "      <td>0</td>\n",
              "      <td>1</td>\n",
              "      <td>0</td>\n",
              "      <td>0.313</td>\n",
              "      <td>0.918</td>\n",
              "    </tr>\n",
              "    <tr>\n",
              "      <th>36</th>\n",
              "      <td>1</td>\n",
              "      <td>0</td>\n",
              "      <td>1</td>\n",
              "      <td>0</td>\n",
              "      <td>1</td>\n",
              "      <td>0</td>\n",
              "      <td>0</td>\n",
              "      <td>1</td>\n",
              "      <td>0</td>\n",
              "      <td>0.604</td>\n",
              "      <td>0.651</td>\n",
              "    </tr>\n",
              "    <tr>\n",
              "      <th>80</th>\n",
              "      <td>0</td>\n",
              "      <td>1</td>\n",
              "      <td>0</td>\n",
              "      <td>0</td>\n",
              "      <td>0</td>\n",
              "      <td>0</td>\n",
              "      <td>0</td>\n",
              "      <td>0</td>\n",
              "      <td>0</td>\n",
              "      <td>0.220</td>\n",
              "      <td>0.116</td>\n",
              "    </tr>\n",
              "    <tr>\n",
              "      <th>58</th>\n",
              "      <td>0</td>\n",
              "      <td>1</td>\n",
              "      <td>0</td>\n",
              "      <td>0</td>\n",
              "      <td>0</td>\n",
              "      <td>0</td>\n",
              "      <td>1</td>\n",
              "      <td>0</td>\n",
              "      <td>1</td>\n",
              "      <td>0.872</td>\n",
              "      <td>0.279</td>\n",
              "    </tr>\n",
              "    <tr>\n",
              "      <th>69</th>\n",
              "      <td>0</td>\n",
              "      <td>1</td>\n",
              "      <td>0</td>\n",
              "      <td>0</td>\n",
              "      <td>0</td>\n",
              "      <td>0</td>\n",
              "      <td>1</td>\n",
              "      <td>0</td>\n",
              "      <td>1</td>\n",
              "      <td>0.569</td>\n",
              "      <td>0.058</td>\n",
              "    </tr>\n",
              "    <tr>\n",
              "      <th>84</th>\n",
              "      <td>1</td>\n",
              "      <td>0</td>\n",
              "      <td>0</td>\n",
              "      <td>0</td>\n",
              "      <td>0</td>\n",
              "      <td>1</td>\n",
              "      <td>0</td>\n",
              "      <td>0</td>\n",
              "      <td>1</td>\n",
              "      <td>0.872</td>\n",
              "      <td>0.848</td>\n",
              "    </tr>\n",
              "    <tr>\n",
              "      <th>56</th>\n",
              "      <td>1</td>\n",
              "      <td>0</td>\n",
              "      <td>1</td>\n",
              "      <td>0</td>\n",
              "      <td>0</td>\n",
              "      <td>0</td>\n",
              "      <td>0</td>\n",
              "      <td>0</td>\n",
              "      <td>1</td>\n",
              "      <td>0.860</td>\n",
              "      <td>0.860</td>\n",
              "    </tr>\n",
              "    <tr>\n",
              "      <th>67</th>\n",
              "      <td>0</td>\n",
              "      <td>1</td>\n",
              "      <td>0</td>\n",
              "      <td>0</td>\n",
              "      <td>0</td>\n",
              "      <td>0</td>\n",
              "      <td>0</td>\n",
              "      <td>0</td>\n",
              "      <td>1</td>\n",
              "      <td>0.069</td>\n",
              "      <td>0.116</td>\n",
              "    </tr>\n",
              "    <tr>\n",
              "      <th>53</th>\n",
              "      <td>1</td>\n",
              "      <td>0</td>\n",
              "      <td>0</td>\n",
              "      <td>1</td>\n",
              "      <td>0</td>\n",
              "      <td>0</td>\n",
              "      <td>0</td>\n",
              "      <td>0</td>\n",
              "      <td>1</td>\n",
              "      <td>0.406</td>\n",
              "      <td>0.651</td>\n",
              "    </tr>\n",
              "    <tr>\n",
              "      <th>48</th>\n",
              "      <td>0</td>\n",
              "      <td>0</td>\n",
              "      <td>0</td>\n",
              "      <td>0</td>\n",
              "      <td>0</td>\n",
              "      <td>0</td>\n",
              "      <td>0</td>\n",
              "      <td>0</td>\n",
              "      <td>1</td>\n",
              "      <td>0.093</td>\n",
              "      <td>0.023</td>\n",
              "    </tr>\n",
              "    <tr>\n",
              "      <th>66</th>\n",
              "      <td>0</td>\n",
              "      <td>1</td>\n",
              "      <td>0</td>\n",
              "      <td>0</td>\n",
              "      <td>0</td>\n",
              "      <td>0</td>\n",
              "      <td>0</td>\n",
              "      <td>0</td>\n",
              "      <td>1</td>\n",
              "      <td>0.069</td>\n",
              "      <td>0.116</td>\n",
              "    </tr>\n",
              "    <tr>\n",
              "      <th>63</th>\n",
              "      <td>0</td>\n",
              "      <td>1</td>\n",
              "      <td>0</td>\n",
              "      <td>0</td>\n",
              "      <td>0</td>\n",
              "      <td>0</td>\n",
              "      <td>1</td>\n",
              "      <td>0</td>\n",
              "      <td>1</td>\n",
              "      <td>0.267</td>\n",
              "      <td>0.116</td>\n",
              "    </tr>\n",
              "    <tr>\n",
              "      <th>10</th>\n",
              "      <td>1</td>\n",
              "      <td>0</td>\n",
              "      <td>0</td>\n",
              "      <td>0</td>\n",
              "      <td>1</td>\n",
              "      <td>0</td>\n",
              "      <td>0</td>\n",
              "      <td>1</td>\n",
              "      <td>0</td>\n",
              "      <td>0.604</td>\n",
              "      <td>0.511</td>\n",
              "    </tr>\n",
              "    <tr>\n",
              "      <th>2</th>\n",
              "      <td>0</td>\n",
              "      <td>0</td>\n",
              "      <td>0</td>\n",
              "      <td>0</td>\n",
              "      <td>0</td>\n",
              "      <td>0</td>\n",
              "      <td>0</td>\n",
              "      <td>0</td>\n",
              "      <td>0</td>\n",
              "      <td>0.011</td>\n",
              "      <td>0.116</td>\n",
              "    </tr>\n",
              "  </tbody>\n",
              "</table>\n",
              "</div>"
            ],
            "text/plain": [
              "    chocolate  fruity  caramel  ...  pluribus  sugarpercent  pricepercent\n",
              "38          1       0        1  ...         0         0.965         0.860\n",
              "44          0       1        0  ...         1         0.197         0.976\n",
              "27          1       0        0  ...         1         0.197         0.511\n",
              "40          1       0        0  ...         0         0.313         0.918\n",
              "36          1       0        1  ...         0         0.604         0.651\n",
              "80          0       1        0  ...         0         0.220         0.116\n",
              "58          0       1        0  ...         1         0.872         0.279\n",
              "69          0       1        0  ...         1         0.569         0.058\n",
              "84          1       0        0  ...         1         0.872         0.848\n",
              "56          1       0        1  ...         1         0.860         0.860\n",
              "67          0       1        0  ...         1         0.069         0.116\n",
              "53          1       0        0  ...         1         0.406         0.651\n",
              "48          0       0        0  ...         1         0.093         0.023\n",
              "66          0       1        0  ...         1         0.069         0.116\n",
              "63          0       1        0  ...         1         0.267         0.116\n",
              "10          1       0        0  ...         0         0.604         0.511\n",
              "2           0       0        0  ...         0         0.011         0.116\n",
              "\n",
              "[17 rows x 11 columns]"
            ]
          },
          "metadata": {
            "tags": []
          },
          "execution_count": 41
        }
      ]
    },
    {
      "cell_type": "code",
      "metadata": {
        "id": "zj__7R5I9AOO",
        "colab_type": "code",
        "outputId": "618da2fe-c093-4917-a780-c3ae8a9be004",
        "colab": {
          "base_uri": "https://localhost:8080/",
          "height": 221
        }
      },
      "source": [
        "Y_train"
      ],
      "execution_count": 42,
      "outputs": [
        {
          "output_type": "execute_result",
          "data": {
            "text/plain": [
              "35    55.064072\n",
              "68    67.037628\n",
              "45    39.446800\n",
              "19    34.158958\n",
              "79    81.642914\n",
              "        ...    \n",
              "75    43.068897\n",
              "9     34.517681\n",
              "72    27.303865\n",
              "12    24.524988\n",
              "37    60.800701\n",
              "Name: winpercent, Length: 68, dtype: float64"
            ]
          },
          "metadata": {
            "tags": []
          },
          "execution_count": 42
        }
      ]
    },
    {
      "cell_type": "markdown",
      "metadata": {
        "id": "lV-Vj_lgbH0n",
        "colab_type": "text"
      },
      "source": [
        "**4.4 Linear regression in scikit-learn**"
      ]
    },
    {
      "cell_type": "code",
      "metadata": {
        "id": "Jb4vrSMa7A9I",
        "colab_type": "code",
        "colab": {}
      },
      "source": [
        "from sklearn.linear_model import LinearRegression\n",
        "linreg = LinearRegression()"
      ],
      "execution_count": 0,
      "outputs": []
    },
    {
      "cell_type": "code",
      "metadata": {
        "id": "61zeAVfjiqJZ",
        "colab_type": "code",
        "colab": {}
      },
      "source": [
        "from sklearn import metrics"
      ],
      "execution_count": 0,
      "outputs": []
    },
    {
      "cell_type": "code",
      "metadata": {
        "id": "B-uEoGgmN3Ig",
        "colab_type": "code",
        "outputId": "9d2ebef7-ba06-41b2-d6d3-eedefc69caa6",
        "colab": {
          "base_uri": "https://localhost:8080/",
          "height": 34
        }
      },
      "source": [
        "linreg.fit(X_train, Y_train)"
      ],
      "execution_count": 45,
      "outputs": [
        {
          "output_type": "execute_result",
          "data": {
            "text/plain": [
              "LinearRegression(copy_X=True, fit_intercept=True, n_jobs=None, normalize=False)"
            ]
          },
          "metadata": {
            "tags": []
          },
          "execution_count": 45
        }
      ]
    },
    {
      "cell_type": "code",
      "metadata": {
        "id": "Cpwziy4GODYx",
        "colab_type": "code",
        "outputId": "ec867a2d-8bfc-41a2-8cca-c26db962f0e0",
        "colab": {
          "base_uri": "https://localhost:8080/",
          "height": 34
        }
      },
      "source": [
        "X_test.shape"
      ],
      "execution_count": 46,
      "outputs": [
        {
          "output_type": "execute_result",
          "data": {
            "text/plain": [
              "(17, 11)"
            ]
          },
          "metadata": {
            "tags": []
          },
          "execution_count": 46
        }
      ]
    },
    {
      "cell_type": "code",
      "metadata": {
        "id": "BBrJKIJIOGxg",
        "colab_type": "code",
        "outputId": "64bdaa79-556f-4c73-c5fa-57eb6e1a7d3e",
        "colab": {
          "base_uri": "https://localhost:8080/",
          "height": 34
        }
      },
      "source": [
        "Y_test.iloc[0]"
      ],
      "execution_count": 47,
      "outputs": [
        {
          "output_type": "execute_result",
          "data": {
            "text/plain": [
              "64.35334"
            ]
          },
          "metadata": {
            "tags": []
          },
          "execution_count": 47
        }
      ]
    },
    {
      "cell_type": "code",
      "metadata": {
        "id": "K_2hRIIaN78f",
        "colab_type": "code",
        "outputId": "b2061ce3-6e69-48c5-898b-359dbae2cac4",
        "colab": {
          "base_uri": "https://localhost:8080/",
          "height": 221
        }
      },
      "source": [
        "X_test.iloc[0]"
      ],
      "execution_count": 48,
      "outputs": [
        {
          "output_type": "execute_result",
          "data": {
            "text/plain": [
              "chocolate           1.000\n",
              "fruity              0.000\n",
              "caramel             1.000\n",
              "peanutyalmondy      0.000\n",
              "nougat              0.000\n",
              "crispedricewafer    0.000\n",
              "hard                0.000\n",
              "bar                 1.000\n",
              "pluribus            0.000\n",
              "sugarpercent        0.965\n",
              "pricepercent        0.860\n",
              "Name: 38, dtype: float64"
            ]
          },
          "metadata": {
            "tags": []
          },
          "execution_count": 48
        }
      ]
    },
    {
      "cell_type": "code",
      "metadata": {
        "id": "loNG7AZhO75_",
        "colab_type": "code",
        "outputId": "f606fb89-3a52-46ee-f2e0-9e36ceb9d53d",
        "colab": {
          "base_uri": "https://localhost:8080/",
          "height": 221
        }
      },
      "source": [
        "[X_test.iloc[5]]"
      ],
      "execution_count": 49,
      "outputs": [
        {
          "output_type": "execute_result",
          "data": {
            "text/plain": [
              "[chocolate           0.000\n",
              " fruity              1.000\n",
              " caramel             0.000\n",
              " peanutyalmondy      0.000\n",
              " nougat              0.000\n",
              " crispedricewafer    0.000\n",
              " hard                0.000\n",
              " bar                 0.000\n",
              " pluribus            0.000\n",
              " sugarpercent        0.220\n",
              " pricepercent        0.116\n",
              " Name: 80, dtype: float64]"
            ]
          },
          "metadata": {
            "tags": []
          },
          "execution_count": 49
        }
      ]
    },
    {
      "cell_type": "code",
      "metadata": {
        "id": "i3PAlvMB_H0G",
        "colab_type": "code",
        "outputId": "f33565be-105e-49b4-fda8-bc57fe9935e8",
        "colab": {
          "base_uri": "https://localhost:8080/",
          "height": 34
        }
      },
      "source": [
        "linreg.predict([X_test.iloc[5]])"
      ],
      "execution_count": 50,
      "outputs": [
        {
          "output_type": "execute_result",
          "data": {
            "text/plain": [
              "array([44.61303163])"
            ]
          },
          "metadata": {
            "tags": []
          },
          "execution_count": 50
        }
      ]
    },
    {
      "cell_type": "code",
      "metadata": {
        "id": "Nh1-wPO2_ODi",
        "colab_type": "code",
        "outputId": "2aa11a0d-cd70-4bbb-8531-332ebaf7f09c",
        "colab": {
          "base_uri": "https://localhost:8080/",
          "height": 34
        }
      },
      "source": [
        "Y_test.iloc[0]"
      ],
      "execution_count": 51,
      "outputs": [
        {
          "output_type": "execute_result",
          "data": {
            "text/plain": [
              "64.35334"
            ]
          },
          "metadata": {
            "tags": []
          },
          "execution_count": 51
        }
      ]
    },
    {
      "cell_type": "code",
      "metadata": {
        "id": "l2DAC_W7Oo4R",
        "colab_type": "code",
        "colab": {}
      },
      "source": [
        "Y_pred = linreg.predict([X_test.iloc[5]])"
      ],
      "execution_count": 0,
      "outputs": []
    },
    {
      "cell_type": "code",
      "metadata": {
        "id": "tM4mCb5xPBst",
        "colab_type": "code",
        "outputId": "9d3c53b6-def9-4f93-ba04-8c62b45fd57a",
        "colab": {
          "base_uri": "https://localhost:8080/",
          "height": 34
        }
      },
      "source": [
        "Y_pred"
      ],
      "execution_count": 53,
      "outputs": [
        {
          "output_type": "execute_result",
          "data": {
            "text/plain": [
              "array([44.61303163])"
            ]
          },
          "metadata": {
            "tags": []
          },
          "execution_count": 53
        }
      ]
    },
    {
      "cell_type": "code",
      "metadata": {
        "id": "emG9Cr1U-WAE",
        "colab_type": "code",
        "outputId": "08bef152-ebad-44e2-8aed-878c286f780f",
        "colab": {
          "base_uri": "https://localhost:8080/",
          "height": 221
        }
      },
      "source": [
        "X_test.iloc[0]"
      ],
      "execution_count": 54,
      "outputs": [
        {
          "output_type": "execute_result",
          "data": {
            "text/plain": [
              "chocolate           1.000\n",
              "fruity              0.000\n",
              "caramel             1.000\n",
              "peanutyalmondy      0.000\n",
              "nougat              0.000\n",
              "crispedricewafer    0.000\n",
              "hard                0.000\n",
              "bar                 1.000\n",
              "pluribus            0.000\n",
              "sugarpercent        0.965\n",
              "pricepercent        0.860\n",
              "Name: 38, dtype: float64"
            ]
          },
          "metadata": {
            "tags": []
          },
          "execution_count": 54
        }
      ]
    },
    {
      "cell_type": "code",
      "metadata": {
        "id": "TDmYYIy9-RBv",
        "colab_type": "code",
        "outputId": "1ef0e2fc-abce-4fd8-8bbc-77d15764ff03",
        "colab": {
          "base_uri": "https://localhost:8080/",
          "height": 34
        }
      },
      "source": [
        "linreg.predict([X_test.iloc[1]])\n"
      ],
      "execution_count": 55,
      "outputs": [
        {
          "output_type": "execute_result",
          "data": {
            "text/plain": [
              "array([40.86918101])"
            ]
          },
          "metadata": {
            "tags": []
          },
          "execution_count": 55
        }
      ]
    },
    {
      "cell_type": "code",
      "metadata": {
        "id": "0vS6zNdyPCXM",
        "colab_type": "code",
        "outputId": "2f65a6ee-a6b3-42f9-8ff1-9d6f80ae59a0",
        "colab": {
          "base_uri": "https://localhost:8080/",
          "height": 34
        }
      },
      "source": [
        "Y_pred - Y_test.iloc[1]"
      ],
      "execution_count": 56,
      "outputs": [
        {
          "output_type": "execute_result",
          "data": {
            "text/plain": [
              "array([22.16769063])"
            ]
          },
          "metadata": {
            "tags": []
          },
          "execution_count": 56
        }
      ]
    },
    {
      "cell_type": "code",
      "metadata": {
        "id": "h0WpmOrtPmnX",
        "colab_type": "code",
        "outputId": "929152b3-f705-4857-f50d-278b651b7b60",
        "colab": {
          "base_uri": "https://localhost:8080/",
          "height": 204
        }
      },
      "source": [
        "X_test.head()"
      ],
      "execution_count": 57,
      "outputs": [
        {
          "output_type": "execute_result",
          "data": {
            "text/html": [
              "<div>\n",
              "<style scoped>\n",
              "    .dataframe tbody tr th:only-of-type {\n",
              "        vertical-align: middle;\n",
              "    }\n",
              "\n",
              "    .dataframe tbody tr th {\n",
              "        vertical-align: top;\n",
              "    }\n",
              "\n",
              "    .dataframe thead th {\n",
              "        text-align: right;\n",
              "    }\n",
              "</style>\n",
              "<table border=\"1\" class=\"dataframe\">\n",
              "  <thead>\n",
              "    <tr style=\"text-align: right;\">\n",
              "      <th></th>\n",
              "      <th>chocolate</th>\n",
              "      <th>fruity</th>\n",
              "      <th>caramel</th>\n",
              "      <th>peanutyalmondy</th>\n",
              "      <th>nougat</th>\n",
              "      <th>crispedricewafer</th>\n",
              "      <th>hard</th>\n",
              "      <th>bar</th>\n",
              "      <th>pluribus</th>\n",
              "      <th>sugarpercent</th>\n",
              "      <th>pricepercent</th>\n",
              "    </tr>\n",
              "  </thead>\n",
              "  <tbody>\n",
              "    <tr>\n",
              "      <th>38</th>\n",
              "      <td>1</td>\n",
              "      <td>0</td>\n",
              "      <td>1</td>\n",
              "      <td>0</td>\n",
              "      <td>0</td>\n",
              "      <td>0</td>\n",
              "      <td>0</td>\n",
              "      <td>1</td>\n",
              "      <td>0</td>\n",
              "      <td>0.965</td>\n",
              "      <td>0.860</td>\n",
              "    </tr>\n",
              "    <tr>\n",
              "      <th>44</th>\n",
              "      <td>0</td>\n",
              "      <td>1</td>\n",
              "      <td>0</td>\n",
              "      <td>0</td>\n",
              "      <td>0</td>\n",
              "      <td>0</td>\n",
              "      <td>0</td>\n",
              "      <td>0</td>\n",
              "      <td>1</td>\n",
              "      <td>0.197</td>\n",
              "      <td>0.976</td>\n",
              "    </tr>\n",
              "    <tr>\n",
              "      <th>27</th>\n",
              "      <td>1</td>\n",
              "      <td>0</td>\n",
              "      <td>0</td>\n",
              "      <td>0</td>\n",
              "      <td>0</td>\n",
              "      <td>0</td>\n",
              "      <td>0</td>\n",
              "      <td>0</td>\n",
              "      <td>1</td>\n",
              "      <td>0.197</td>\n",
              "      <td>0.511</td>\n",
              "    </tr>\n",
              "    <tr>\n",
              "      <th>40</th>\n",
              "      <td>1</td>\n",
              "      <td>0</td>\n",
              "      <td>0</td>\n",
              "      <td>1</td>\n",
              "      <td>0</td>\n",
              "      <td>0</td>\n",
              "      <td>0</td>\n",
              "      <td>1</td>\n",
              "      <td>0</td>\n",
              "      <td>0.313</td>\n",
              "      <td>0.918</td>\n",
              "    </tr>\n",
              "    <tr>\n",
              "      <th>36</th>\n",
              "      <td>1</td>\n",
              "      <td>0</td>\n",
              "      <td>1</td>\n",
              "      <td>0</td>\n",
              "      <td>1</td>\n",
              "      <td>0</td>\n",
              "      <td>0</td>\n",
              "      <td>1</td>\n",
              "      <td>0</td>\n",
              "      <td>0.604</td>\n",
              "      <td>0.651</td>\n",
              "    </tr>\n",
              "  </tbody>\n",
              "</table>\n",
              "</div>"
            ],
            "text/plain": [
              "    chocolate  fruity  caramel  ...  pluribus  sugarpercent  pricepercent\n",
              "38          1       0        1  ...         0         0.965         0.860\n",
              "44          0       1        0  ...         1         0.197         0.976\n",
              "27          1       0        0  ...         1         0.197         0.511\n",
              "40          1       0        0  ...         0         0.313         0.918\n",
              "36          1       0        1  ...         0         0.604         0.651\n",
              "\n",
              "[5 rows x 11 columns]"
            ]
          },
          "metadata": {
            "tags": []
          },
          "execution_count": 57
        }
      ]
    },
    {
      "cell_type": "code",
      "metadata": {
        "id": "JQ-u48EVPpML",
        "colab_type": "code",
        "outputId": "6d3d973b-e294-4f7e-f70d-5edcb985d45b",
        "colab": {
          "base_uri": "https://localhost:8080/",
          "height": 85
        }
      },
      "source": [
        "linreg.predict(X_test) "
      ],
      "execution_count": 58,
      "outputs": [
        {
          "output_type": "execute_result",
          "data": {
            "text/plain": [
              "array([55.10908166, 40.86918101, 52.10260665, 59.64778761, 59.07660229,\n",
              "       44.61303163, 42.79443834, 39.50039241, 75.55900291, 55.82762664,\n",
              "       40.0692605 , 62.83637085, 32.36419277, 40.0692605 , 36.00247316,\n",
              "       62.77123871, 34.17200198])"
            ]
          },
          "metadata": {
            "tags": []
          },
          "execution_count": 58
        }
      ]
    },
    {
      "cell_type": "code",
      "metadata": {
        "id": "meJqo2W1PtrK",
        "colab_type": "code",
        "outputId": "116ba53b-05f2-4366-c4ff-d27b5f37dcf7",
        "colab": {
          "base_uri": "https://localhost:8080/",
          "height": 34
        }
      },
      "source": [
        "Y_pred_test = linreg.predict(X_test) \n",
        "RMSE_test = (metrics.mean_squared_error(Y_test,Y_pred_test))                          # compute the RMSE of our predictions\n",
        "print('RMSE for the test set is {}'.format(RMSE_test))"
      ],
      "execution_count": 59,
      "outputs": [
        {
          "output_type": "stream",
          "text": [
            "RMSE for the test set is 167.05181735247982\n"
          ],
          "name": "stdout"
        }
      ]
    },
    {
      "cell_type": "markdown",
      "metadata": {
        "id": "L05i6C-Fbcep",
        "colab_type": "text"
      },
      "source": [
        "When you do scaling outside linear regression, the RMSE calculations shows scaled version of devaition. You would have to rescale them if you want to know actual deviation with respect to actual scale of Y (Sales)\n",
        "When you do scaling inside LR Function, it scales the data to fit the line, but it automatically scales the RMSE back to original Y (Sales)\n",
        "This only applies to LR "
      ]
    },
    {
      "cell_type": "markdown",
      "metadata": {
        "id": "JB8T-DY8bvLx",
        "colab_type": "text"
      },
      "source": [
        "Scaling --- IT scales the value into specific range\n",
        "\n",
        "2 Processs for Accuracy Calcualtions\n",
        "\n",
        "1) Y_Pred Y_Test Manual Scaling 2) Y_Pred Y_Test -> [Normalize=True] Algo Scaling 3) Y_Pred Y_Test -> ; same result as 1. ; Algo Scaling 4) Y_Pred Y_Test ->; same result as 1 [Algo Scaling]"
      ]
    },
    {
      "cell_type": "code",
      "metadata": {
        "id": "dj_zcN9qb29J",
        "colab_type": "code",
        "outputId": "e4634172-eaa2-4674-bdfd-9a201f7852bc",
        "colab": {
          "base_uri": "https://localhost:8080/",
          "height": 306
        }
      },
      "source": [
        "from sklearn.preprocessing import StandardScaler\n",
        "scaler = StandardScaler().fit(pd.DataFrame(Y_test))\n",
        "scaler.transform(pd.DataFrame(Y_test))"
      ],
      "execution_count": 60,
      "outputs": [
        {
          "output_type": "execute_result",
          "data": {
            "text/plain": [
              "array([[ 1.01350951],\n",
              "       [-1.95611498],\n",
              "       [ 0.50798386],\n",
              "       [ 0.31717061],\n",
              "       [ 1.63327132],\n",
              "       [-0.32483809],\n",
              "       [-0.51028997],\n",
              "       [-1.09631768],\n",
              "       [-0.03729789],\n",
              "       [ 1.11008864],\n",
              "       [ 0.19667193],\n",
              "       [ 1.65704036],\n",
              "       [-0.87357848],\n",
              "       [ 0.6953922 ],\n",
              "       [-0.28731423],\n",
              "       [-0.78481138],\n",
              "       [-1.26056574]])"
            ]
          },
          "metadata": {
            "tags": []
          },
          "execution_count": 60
        }
      ]
    },
    {
      "cell_type": "code",
      "metadata": {
        "id": "ljcwdbR4rKlt",
        "colab_type": "code",
        "outputId": "ce8e973a-82eb-48c0-dbd2-a331f6d29b0b",
        "colab": {
          "base_uri": "https://localhost:8080/",
          "height": 34
        }
      },
      "source": [
        "Y_pred"
      ],
      "execution_count": 61,
      "outputs": [
        {
          "output_type": "execute_result",
          "data": {
            "text/plain": [
              "array([44.61303163])"
            ]
          },
          "metadata": {
            "tags": []
          },
          "execution_count": 61
        }
      ]
    },
    {
      "cell_type": "code",
      "metadata": {
        "id": "hl7YijrXcXYy",
        "colab_type": "code",
        "outputId": "f9faabec-03a2-4274-e697-515c371d5620",
        "colab": {
          "base_uri": "https://localhost:8080/",
          "height": 323
        }
      },
      "source": [
        "Y_test"
      ],
      "execution_count": 62,
      "outputs": [
        {
          "output_type": "execute_result",
          "data": {
            "text/plain": [
              "38    64.353340\n",
              "44    22.445341\n",
              "27    57.219250\n",
              "40    54.526451\n",
              "36    73.099556\n",
              "80    45.466282\n",
              "58    42.849144\n",
              "69    34.578991\n",
              "84    49.524113\n",
              "56    65.716286\n",
              "67    52.825947\n",
              "53    73.434990\n",
              "48    37.722336\n",
              "66    59.863998\n",
              "63    45.995827\n",
              "10    38.975037\n",
              "2     32.261086\n",
              "Name: winpercent, dtype: float64"
            ]
          },
          "metadata": {
            "tags": []
          },
          "execution_count": 62
        }
      ]
    },
    {
      "cell_type": "markdown",
      "metadata": {
        "id": "sQvKnMDsdh8N",
        "colab_type": "text"
      },
      "source": [
        "if you plan to use scaling from Algorithm, don't scale before.\n",
        "when you don't pass any parameters to algo, it means you are working on default/baseline model."
      ]
    },
    {
      "cell_type": "code",
      "metadata": {
        "id": "23CrxgBYdkW1",
        "colab_type": "code",
        "colab": {}
      },
      "source": [
        "from sklearn.linear_model import LinearRegression\n",
        "linreg = LinearRegression()"
      ],
      "execution_count": 0,
      "outputs": []
    },
    {
      "cell_type": "code",
      "metadata": {
        "id": "Sdcc95E8dyAY",
        "colab_type": "code",
        "outputId": "270cacdc-6369-4465-ca92-0020fbf11e90",
        "colab": {
          "base_uri": "https://localhost:8080/",
          "height": 34
        }
      },
      "source": [
        "linreg"
      ],
      "execution_count": 64,
      "outputs": [
        {
          "output_type": "execute_result",
          "data": {
            "text/plain": [
              "LinearRegression(copy_X=True, fit_intercept=True, n_jobs=None, normalize=False)"
            ]
          },
          "metadata": {
            "tags": []
          },
          "execution_count": 64
        }
      ]
    },
    {
      "cell_type": "code",
      "metadata": {
        "id": "JWkq795Ld5Eo",
        "colab_type": "code",
        "outputId": "6b33bd91-d951-4b73-969d-62290cdaca80",
        "colab": {
          "base_uri": "https://localhost:8080/",
          "height": 34
        }
      },
      "source": [
        "from sklearn.linear_model import LinearRegression\n",
        "linreg = LinearRegression(normalize=False, fit_intercept=False)\n",
        "linreg.fit(X_train, Y_train) \n",
        "Y_pred_test = linreg.predict(X_test)   \n",
        "# make predictions on the testing set\n",
        "RMSE_test = (metrics.mean_squared_error(Y_test, Y_pred_test)) # compute the RMSE of our predictions\n",
        "print('RMSE for the test set is {}'.format(RMSE_test))"
      ],
      "execution_count": 65,
      "outputs": [
        {
          "output_type": "stream",
          "text": [
            "RMSE for the test set is 311.782422697765\n"
          ],
          "name": "stdout"
        }
      ]
    },
    {
      "cell_type": "code",
      "metadata": {
        "id": "FO_apsHCY_m_",
        "colab_type": "code",
        "outputId": "906e1d32-94a1-4136-db1e-0a6bd1dfc59d",
        "colab": {
          "base_uri": "https://localhost:8080/",
          "height": 34
        }
      },
      "source": [
        "from sklearn.linear_model import LinearRegression\n",
        "linreg = LinearRegression(normalize=True)\n",
        "linreg.fit(X_train, Y_train) \n",
        "Y_pred_test = linreg.predict(X_test)   \n",
        "# make predictions on the testing set\n",
        "RMSE_test = (metrics.mean_squared_error(Y_test, Y_pred_test)) # compute the RMSE of our predictions\n",
        "print('RMSE for the test set is {}'.format(RMSE_test))"
      ],
      "execution_count": 66,
      "outputs": [
        {
          "output_type": "stream",
          "text": [
            "RMSE for the test set is 167.05181735247984\n"
          ],
          "name": "stdout"
        }
      ]
    },
    {
      "cell_type": "code",
      "metadata": {
        "id": "3i6mzzBcVQkE",
        "colab_type": "code",
        "outputId": "f5ae19ab-14f1-4484-deb4-c8aed799258d",
        "colab": {
          "base_uri": "https://localhost:8080/",
          "height": 34
        }
      },
      "source": [
        "from sklearn.linear_model import LinearRegression\n",
        "linreg = LinearRegression(normalize=False)\n",
        "linreg.fit(X_train, Y_train) \n",
        "Y_pred_test = linreg.predict(X_test)   \n",
        "# make predictions on the testing set\n",
        "RMSE_test = (metrics.mean_squared_error(Y_test, Y_pred_test)) # compute the RMSE of our predictions\n",
        "print('RMSE for the test set is {}'.format(RMSE_test))"
      ],
      "execution_count": 67,
      "outputs": [
        {
          "output_type": "stream",
          "text": [
            "RMSE for the test set is 167.05181735247982\n"
          ],
          "name": "stdout"
        }
      ]
    },
    {
      "cell_type": "code",
      "metadata": {
        "id": "N0SDuAGux1Bp",
        "colab_type": "code",
        "outputId": "ae63c994-5fa2-44da-b779-b89e2516f5c2",
        "colab": {
          "base_uri": "https://localhost:8080/",
          "height": 34
        }
      },
      "source": [
        "# This is after doing manual scaling. Make sure the X_train and Y_train gets scaled before sending to this function \n",
        "from sklearn.linear_model import LinearRegression\n",
        "linreg = LinearRegression()\n",
        "linreg.fit(X_train,Y_train) \n",
        "Y_pred_test = linreg.predict(X_test)   \n",
        "\n",
        "                                                # make predictions on the testing set\n",
        "RMSE_test = (metrics.mean_squared_error(Y_test, Y_pred_test))                          # compute the RMSE of our predictions\n",
        "print('RMSE for the test set is {}'.format(RMSE_test))"
      ],
      "execution_count": 68,
      "outputs": [
        {
          "output_type": "stream",
          "text": [
            "RMSE for the test set is 167.05181735247982\n"
          ],
          "name": "stdout"
        }
      ]
    },
    {
      "cell_type": "markdown",
      "metadata": {
        "id": "V6goTknMchph",
        "colab_type": "text"
      },
      "source": [
        "# when gridsearch does the training, it create its own Train & Test. Make sure, wheever you do GridSearch, use random_seed "
      ]
    },
    {
      "cell_type": "code",
      "metadata": {
        "id": "gtpvQwxOwkri",
        "colab_type": "code",
        "outputId": "2f56cb44-c2c8-40eb-edaf-5495b13a5b43",
        "colab": {
          "base_uri": "https://localhost:8080/",
          "height": 170
        }
      },
      "source": [
        "from sklearn.model_selection import GridSearchCV\n",
        "\n",
        "# define the parameters , it should always be a dictionary \n",
        "parameters = {'normalize':[True,False], 'copy_X':[True, False], 'fit_intercept':[True,False]}\n",
        "linreg = LinearRegression() # this the model on which i would want to experiment \n",
        "\n",
        "# Call the GridSearch Class, Pass the model and parameter \n",
        "linreg = GridSearchCV(linreg,parameters)\n",
        "\n",
        "\n",
        "linreg.fit(X_train, Y_train)                                                           # fit the model to the training data (learn the coefficients)\n",
        "#, So internal Train test get created on this X_Train & Y_Train 80,20% \n",
        "# So, it creates new 80,20 split from the previous(global) 80% "
      ],
      "execution_count": 69,
      "outputs": [
        {
          "output_type": "execute_result",
          "data": {
            "text/plain": [
              "GridSearchCV(cv=None, error_score=nan,\n",
              "             estimator=LinearRegression(copy_X=True, fit_intercept=True,\n",
              "                                        n_jobs=None, normalize=False),\n",
              "             iid='deprecated', n_jobs=None,\n",
              "             param_grid={'copy_X': [True, False],\n",
              "                         'fit_intercept': [True, False],\n",
              "                         'normalize': [True, False]},\n",
              "             pre_dispatch='2*n_jobs', refit=True, return_train_score=False,\n",
              "             scoring=None, verbose=0)"
            ]
          },
          "metadata": {
            "tags": []
          },
          "execution_count": 69
        }
      ]
    },
    {
      "cell_type": "markdown",
      "metadata": {
        "id": "Nb871Ap9c-K1",
        "colab_type": "text"
      },
      "source": [
        "# This best_score_ gives you the RMSE of internal Train Test set of GridSearch "
      ]
    },
    {
      "cell_type": "markdown",
      "metadata": {
        "id": "n6IuWamVG7u5",
        "colab_type": "text"
      },
      "source": [
        "# always fight for best stable model and not accurate model. -> Real World/Depolyment Prospective "
      ]
    },
    {
      "cell_type": "code",
      "metadata": {
        "id": "TZkUAWNSb5hQ",
        "colab_type": "code",
        "outputId": "3f2d9c2e-6409-4568-b684-a6421eb5131c",
        "colab": {
          "base_uri": "https://localhost:8080/",
          "height": 34
        }
      },
      "source": [
        "print(\"Mean cross-validated score of the best_estimator : \", linreg.best_score_)  \n",
        "# Of the internal Test set which is created out of 80% "
      ],
      "execution_count": 70,
      "outputs": [
        {
          "output_type": "stream",
          "text": [
            "Mean cross-validated score of the best_estimator :  0.2881236105975919\n"
          ],
          "name": "stdout"
        }
      ]
    },
    {
      "cell_type": "code",
      "metadata": {
        "id": "gGEXqXwPbxxS",
        "colab_type": "code",
        "outputId": "f2831f9c-1fa8-4dda-d1a6-8370ed8555c1",
        "colab": {
          "base_uri": "https://localhost:8080/",
          "height": 34
        }
      },
      "source": [
        "linreg.best_estimator_"
      ],
      "execution_count": 71,
      "outputs": [
        {
          "output_type": "execute_result",
          "data": {
            "text/plain": [
              "LinearRegression(copy_X=True, fit_intercept=True, n_jobs=None, normalize=True)"
            ]
          },
          "metadata": {
            "tags": []
          },
          "execution_count": 71
        }
      ]
    },
    {
      "cell_type": "code",
      "metadata": {
        "id": "YrHnloX6bqw9",
        "colab_type": "code",
        "outputId": "0953f91c-55e5-48fc-f8f4-8b7ea950e1cd",
        "colab": {
          "base_uri": "https://localhost:8080/",
          "height": 34
        }
      },
      "source": [
        "linreg = LinearRegression(copy_X=True, fit_intercept=True, n_jobs=None, normalize=True)\n",
        "linreg.fit(X_train, Y_train)\n",
        "Y_pred_test = linreg.predict(X_test)                                                   # make predictions on the testing set\n",
        "\n",
        "RMSE_test = (metrics.mean_squared_error(Y_test, Y_pred_test))                          # compute the RMSE of our predictions\n",
        "print('RMSE for the test set is {}'.format(RMSE_test))"
      ],
      "execution_count": 72,
      "outputs": [
        {
          "output_type": "stream",
          "text": [
            "RMSE for the test set is 167.05181735247984\n"
          ],
          "name": "stdout"
        }
      ]
    },
    {
      "cell_type": "markdown",
      "metadata": {
        "id": "p_H5_ruOwkrl",
        "colab_type": "text"
      },
      "source": [
        "### 4.5 Interpreting Model Coefficients"
      ]
    },
    {
      "cell_type": "code",
      "metadata": {
        "id": "wgMA-Orjsn4V",
        "colab_type": "code",
        "outputId": "e9dd1e0e-0948-4891-be3a-384f495b6ecd",
        "colab": {
          "base_uri": "https://localhost:8080/",
          "height": 68
        }
      },
      "source": [
        "print('Intercept:',linreg.intercept_)                                           # print the intercept \n",
        "print('Coefficients:',linreg.coef_)"
      ],
      "execution_count": 73,
      "outputs": [
        {
          "output_type": "stream",
          "text": [
            "Intercept: 34.13574296847616\n",
            "Coefficients: [18.92584064  8.05126009 -3.58659701  8.45203415  7.93401708 15.99830741\n",
            " -6.33077947 -4.73633764 -2.81719118 11.43430413 -0.77170981]\n"
          ],
          "name": "stdout"
        }
      ]
    },
    {
      "cell_type": "code",
      "metadata": {
        "id": "DS39LsdssuN-",
        "colab_type": "code",
        "outputId": "424a44a1-98f6-4dfa-e013-bbf6461ae493",
        "colab": {
          "base_uri": "https://localhost:8080/",
          "height": 68
        }
      },
      "source": [
        "linreg.coef_"
      ],
      "execution_count": 74,
      "outputs": [
        {
          "output_type": "execute_result",
          "data": {
            "text/plain": [
              "array([18.92584064,  8.05126009, -3.58659701,  8.45203415,  7.93401708,\n",
              "       15.99830741, -6.33077947, -4.73633764, -2.81719118, 11.43430413,\n",
              "       -0.77170981])"
            ]
          },
          "metadata": {
            "tags": []
          },
          "execution_count": 74
        }
      ]
    },
    {
      "cell_type": "code",
      "metadata": {
        "id": "Pm_SMdddsyN_",
        "colab_type": "code",
        "outputId": "94d01a0b-67e9-443e-8099-ca842985bd65",
        "colab": {
          "base_uri": "https://localhost:8080/",
          "height": 34
        }
      },
      "source": [
        "linreg.intercept_"
      ],
      "execution_count": 75,
      "outputs": [
        {
          "output_type": "execute_result",
          "data": {
            "text/plain": [
              "34.13574296847616"
            ]
          },
          "metadata": {
            "tags": []
          },
          "execution_count": 75
        }
      ]
    },
    {
      "cell_type": "code",
      "metadata": {
        "id": "wG33xOh6s05d",
        "colab_type": "code",
        "colab": {}
      },
      "source": [
        "feature_cols.insert(0,'Intercept')\n",
        "coef = linreg.coef_.tolist()\n",
        "coef.insert(0, linreg.intercept_)"
      ],
      "execution_count": 0,
      "outputs": []
    },
    {
      "cell_type": "code",
      "metadata": {
        "id": "IjACCYpzs4L7",
        "colab_type": "code",
        "outputId": "0dbf0b94-f547-479a-f031-c34507d0e84c",
        "colab": {
          "base_uri": "https://localhost:8080/",
          "height": 221
        }
      },
      "source": [
        "eq1 = zip(feature_cols, coef)\n",
        "\n",
        "for c1,c2 in eq1:\n",
        "    print(c1,c2)"
      ],
      "execution_count": 77,
      "outputs": [
        {
          "output_type": "stream",
          "text": [
            "Intercept 34.13574296847616\n",
            "chocolate 18.92584064484591\n",
            "fruity 8.05126009012222\n",
            "caramel -3.5865970139352044\n",
            "peanutyalmondy 8.452034151853507\n",
            "nougat 7.934017078848617\n",
            "crispedricewafer 15.99830741233255\n",
            "hard -6.33077946779993\n",
            "bar -4.736337641899247\n",
            "pluribus -2.8171911783408907\n",
            "sugarpercent 11.434304133971015\n",
            "pricepercent -0.7717098121223521\n"
          ],
          "name": "stdout"
        }
      ]
    },
    {
      "cell_type": "markdown",
      "metadata": {
        "id": "0GSEr5XotHZI",
        "colab_type": "text"
      },
      "source": [
        "### 4.6 Using the Model for Prediction"
      ]
    },
    {
      "cell_type": "code",
      "metadata": {
        "id": "95MgUrj2s-zF",
        "colab_type": "code",
        "colab": {}
      },
      "source": [
        "Y_pred_train = linreg.predict(X_train)  "
      ],
      "execution_count": 0,
      "outputs": []
    },
    {
      "cell_type": "code",
      "metadata": {
        "id": "9oJXEsXwtXrX",
        "colab_type": "code",
        "colab": {}
      },
      "source": [
        "Y_pred_test = linreg.predict(X_test)   "
      ],
      "execution_count": 0,
      "outputs": []
    },
    {
      "cell_type": "markdown",
      "metadata": {
        "id": "qwUqEECWwkrz",
        "colab_type": "text"
      },
      "source": [
        "## 5. Model evaluation "
      ]
    },
    {
      "cell_type": "markdown",
      "metadata": {
        "id": "uy6dJk2Nwkr0",
        "colab_type": "text"
      },
      "source": [
        "### 5.1 Model Evaluation using __metrics.__"
      ]
    },
    {
      "cell_type": "markdown",
      "metadata": {
        "id": "0rqJBegJwkrk",
        "colab_type": "text"
      },
      "source": [
        "<a id=section405></a>"
      ]
    },
    {
      "cell_type": "markdown",
      "metadata": {
        "id": "zsOhlhzgLpJY",
        "colab_type": "text"
      },
      "source": [
        "The difference between Train Accuracy and Test Accuracy should be least for a good Model\n",
        "Train Accuracy. y_train ~~ model.predict(X_train)\n"
      ]
    },
    {
      "cell_type": "markdown",
      "metadata": {
        "id": "gujP6ekfLSoJ",
        "colab_type": "text"
      },
      "source": [
        "Mean Squared Error (MSE) is the mean of the squared errors:\n",
        "1n∑i=1n(yi−y^i)2\n",
        "\n",
        "Computing the MSE for our Sales predictions"
      ]
    },
    {
      "cell_type": "code",
      "metadata": {
        "id": "sRc5-6AlTPNd",
        "colab_type": "code",
        "colab": {}
      },
      "source": [
        "MAE_train = metrics.mean_absolute_error(Y_train, Y_pred_train)\n",
        "MAE_test = metrics.mean_absolute_error(Y_test, Y_pred_test)"
      ],
      "execution_count": 0,
      "outputs": []
    },
    {
      "cell_type": "code",
      "metadata": {
        "id": "1bpi9bw2TgXd",
        "colab_type": "code",
        "outputId": "0622285b-d41b-492a-cf22-527cd7766685",
        "colab": {
          "base_uri": "https://localhost:8080/",
          "height": 51
        }
      },
      "source": [
        "print('MAE for training set is {}'.format(MAE_train))\n",
        "print('MAE for test set is {}'.format(MAE_test))"
      ],
      "execution_count": 81,
      "outputs": [
        {
          "output_type": "stream",
          "text": [
            "MAE for training set is 7.638014059243085\n",
            "MAE for test set is 10.464152742303979\n"
          ],
          "name": "stdout"
        }
      ]
    },
    {
      "cell_type": "markdown",
      "metadata": {
        "id": "5WguX383wkr6",
        "colab_type": "text"
      },
      "source": [
        "__Root Mean Squared Error__ (RMSE) is the square root of the mean of the squared errors:\n",
        "\n",
        "$$\\sqrt{\\frac 1n\\sum_{i=1}^n(y_i-\\hat{y}_i)^2}$$\n",
        "\n",
        "Computing the RMSE for our Sales predictions"
      ]
    },
    {
      "cell_type": "code",
      "metadata": {
        "id": "nBbgPjOHTxYd",
        "colab_type": "code",
        "colab": {}
      },
      "source": [
        "MSE_train = metrics.mean_squared_error( Y_train, Y_pred_train)\n",
        "MSE_test = metrics.mean_squared_error(Y_test, Y_pred_test)"
      ],
      "execution_count": 0,
      "outputs": []
    },
    {
      "cell_type": "code",
      "metadata": {
        "id": "bUp0QAr2T5Gd",
        "colab_type": "code",
        "outputId": "88b6d742-7a10-40af-9332-f85fd5fc18ea",
        "colab": {
          "base_uri": "https://localhost:8080/",
          "height": 51
        }
      },
      "source": [
        "print('MSE for training set is {}'.format(MSE_train))\n",
        "print('MSE for test set is {}'.format(MSE_test))"
      ],
      "execution_count": 83,
      "outputs": [
        {
          "output_type": "stream",
          "text": [
            "MSE for training set is 90.21124364486971\n",
            "MSE for test set is 167.05181735247984\n"
          ],
          "name": "stdout"
        }
      ]
    },
    {
      "cell_type": "markdown",
      "metadata": {
        "id": "KsiYuqDqgnxu",
        "colab_type": "text"
      },
      "source": [
        "**5.2 Model Evaluation using Rsquared value.**"
      ]
    },
    {
      "cell_type": "markdown",
      "metadata": {
        "id": "AI8VBSSKiqk9",
        "colab_type": "text"
      },
      "source": [
        "There is one more method to evaluate linear regression model and that is by using the Rsquared value.\n",
        "\n",
        "R-squared is the proportion of variance explained, meaning the proportion of variance in the observed data that is explained by the model, or the reduction in error over the null model. (The null model just predicts the mean of the observed response, and thus it has an intercept and no slope.)\n",
        "\n",
        "R-squared is between 0 and 1, and higher is better because it means that more variance is explained by the model. But there is one shortcoming of Rsquare method and that is R-squared will always increase as you add more features to the model, even if they are unrelated to the response. Thus, selecting the model with the highest R-squared is not a reliable approach for choosing the best linear model.\n",
        "\n",
        "There is alternative to R-squared called adjusted R-squared that penalizes model complexity (to control for overfitting).\n",
        "\n"
      ]
    },
    {
      "cell_type": "code",
      "metadata": {
        "id": "YgGQhniSnphd",
        "colab_type": "code",
        "outputId": "4ab549a4-46be-417e-b5b6-692633a77486",
        "colab": {
          "base_uri": "https://localhost:8080/",
          "height": 34
        }
      },
      "source": [
        "Yhat = linreg.predict(X_train)\n",
        "SS_Residual = sum((Y_train-Yhat)**2)\n",
        "SS_Total = sum((Y_train-np.mean(Y_train))**2)\n",
        "r_squared = 1 - (float(SS_Residual))/SS_Total\n",
        "adjusted_r_squared = 1 - (1-r_squared)*(len(Y_train)-1)/(len(Y_train)-X_train.shape[1]-1)\n",
        "print(r_squared, adjusted_r_squared)"
      ],
      "execution_count": 84,
      "outputs": [
        {
          "output_type": "stream",
          "text": [
            "0.5855129919383149 0.5040959010690553\n"
          ],
          "name": "stdout"
        }
      ]
    },
    {
      "cell_type": "markdown",
      "metadata": {
        "id": "X917BKQjoYRh",
        "colab_type": "text"
      },
      "source": [
        "**6. Feature Selection**\n",
        "\n",
        "\n",
        "At times some features do not contribute much to the accuracy of the model, in that case its better to discard those features.\n",
        "\n",
        "Also Applying Gridsearch method for exhaustive search over specified parameter values of estimator."
      ]
    },
    {
      "cell_type": "code",
      "metadata": {
        "id": "aynPqxQTomol",
        "colab_type": "code",
        "outputId": "28824369-3378-4f0f-8f9d-f41780be206f",
        "colab": {
          "base_uri": "https://localhost:8080/",
          "height": 34
        }
      },
      "source": [
        " feature_cols = ['chocolate','fruity','caramel','peanutyalmondy','nougat','crispedricewafer','hard','bar','pluribus','sugarpercent','pricepercent']                                                          # create a Python list of feature names\n",
        "X = candy_data[feature_cols]  \n",
        "Y = candy_data.winpercent\n",
        "\n",
        "X_train, X_test, Y_train, Y_test=split(X,Y)\n",
        "\n",
        "linreg = LinearRegression(copy_X=True, fit_intercept=True, n_jobs=None, normalize=True)\n",
        "linreg.fit(X_train, Y_train)\n",
        "Y_pred_test = linreg.predict(X_test)                                                   # make predictions on the testing set\n",
        "\n",
        "RMSE_test = (metrics.mean_squared_error(Y_test, Y_pred_test))                          # compute the RMSE of our predictions\n",
        "print('RMSE for the test set is {}'.format(RMSE_test))"
      ],
      "execution_count": 85,
      "outputs": [
        {
          "output_type": "stream",
          "text": [
            "RMSE for the test set is 167.05181735247984\n"
          ],
          "name": "stdout"
        }
      ]
    },
    {
      "cell_type": "code",
      "metadata": {
        "id": "t_U2mIKzqL_S",
        "colab_type": "code",
        "outputId": "4c9f581e-1457-4eb2-9284-157e61a140d4",
        "colab": {
          "base_uri": "https://localhost:8080/",
          "height": 68
        }
      },
      "source": [
        "print('Intercept:',linreg.intercept_)                                           # print the intercept \n",
        "print('Coefficients:',linreg.coef_)"
      ],
      "execution_count": 86,
      "outputs": [
        {
          "output_type": "stream",
          "text": [
            "Intercept: 34.13574296847616\n",
            "Coefficients: [18.92584064  8.05126009 -3.58659701  8.45203415  7.93401708 15.99830741\n",
            " -6.33077947 -4.73633764 -2.81719118 11.43430413 -0.77170981]\n"
          ],
          "name": "stdout"
        }
      ]
    },
    {
      "cell_type": "markdown",
      "metadata": {
        "id": "Kol5Cz9WrN0r",
        "colab_type": "text"
      },
      "source": [
        "**7. Handling Categorical Features**\n"
      ]
    },
    {
      "cell_type": "code",
      "metadata": {
        "id": "doD0RAECXdCy",
        "colab_type": "code",
        "outputId": "591b367a-e7f9-4cfd-c9a3-58a59611526d",
        "colab": {
          "base_uri": "https://localhost:8080/",
          "height": 255
        }
      },
      "source": [
        "pd.cut(candy_data['winpercent'], bins=6)"
      ],
      "execution_count": 87,
      "outputs": [
        {
          "output_type": "execute_result",
          "data": {
            "text/plain": [
              "0     (63.602, 73.891]\n",
              "1     (63.602, 73.891]\n",
              "2     (22.384, 32.734]\n",
              "3     (43.024, 53.313]\n",
              "4     (43.024, 53.313]\n",
              "            ...       \n",
              "80    (43.024, 53.313]\n",
              "81    (32.734, 43.024]\n",
              "82    (43.024, 53.313]\n",
              "83    (32.734, 43.024]\n",
              "84    (43.024, 53.313]\n",
              "Name: winpercent, Length: 85, dtype: category\n",
              "Categories (6, interval[float64]): [(22.384, 32.734] < (32.734, 43.024] < (43.024, 53.313] <\n",
              "                                    (53.313, 63.602] < (63.602, 73.891] < (73.891, 84.18]]"
            ]
          },
          "metadata": {
            "tags": []
          },
          "execution_count": 87
        }
      ]
    },
    {
      "cell_type": "code",
      "metadata": {
        "id": "UuTpyVPLudDl",
        "colab_type": "code",
        "colab": {}
      },
      "source": [
        " linear regression always work on numerical continuous. \n",
        "# the area column is categorical column - nonOrdinal \n",
        "  # possible solution -> you conver this to discreat numeircal ; 0,1,2, \n",
        "  # the actual solution is to convert numeical descrete to Dummy Variable \n",
        "  # Categrical (single col) --> Numerical Discreate (single col) --> Dummy Variable (which projects the categories into axis of vector space) (multiple col)\n",
        "  # For N Categories, N columns will be created in Dummies. You always need N-1 columns to represent whole data\n",
        "  # If the inference is important, Use N columns rather than N-1.\n",
        "  # by default, always do N columns in Dummy. \n",
        "\n",
        "\n",
        "  # the data sent to model should always be constint: \n",
        "     # The data type representation should be same - either all should be numerical cont, or all should be category ?\n",
        "     # If it is numerical cont, then make sure that they are scaled.  \n",
        "     # Goal is to to convert all data types to Numerical cont: \n",
        "        # String cateogry -> get_dummies \n",
        "        # numerical discreate --> get_dummies [peopel are always confused on this; \n",
        "                  #we call something as discreate, when the unique of that column is way lesser than total values; uniq(col1)<<<<<total values (col)]\n",
        "     # Goal is to convert everything to category:  (Don't do this for LR)\n",
        "        # Numerical Cont data --> You take ranges (bins)  and create groups \n",
        "        # pd.cut(data['Sales'], bins=6)"
      ],
      "execution_count": 0,
      "outputs": []
    },
    {
      "cell_type": "code",
      "metadata": {
        "id": "H4PjEn9MGxg4",
        "colab_type": "code",
        "colab": {}
      },
      "source": [
        "np.random.seed(123456)                                                # set a seed for reproducibility\n",
        "nums = np.random.rand(len(candy_data))\n"
      ],
      "execution_count": 0,
      "outputs": []
    },
    {
      "cell_type": "code",
      "metadata": {
        "id": "MpLE_hrIHKvn",
        "colab_type": "code",
        "outputId": "0f610930-429d-44a1-d794-df8d0868e866",
        "colab": {
          "base_uri": "https://localhost:8080/",
          "height": 204
        }
      },
      "source": [
        "# Assign roughly one third of observations to each group\n",
        "mask_fruity = nums = 1\n",
        "mask_chocolate = nums = 1\n",
        "candy_data.loc[mask_fruity, 'category'] = 'candy'\n",
        "candy_data.loc[mask_chocolate, 'category'] = 'chocolate'\n",
        "candy_data.head()"
      ],
      "execution_count": 97,
      "outputs": [
        {
          "output_type": "execute_result",
          "data": {
            "text/html": [
              "<div>\n",
              "<style scoped>\n",
              "    .dataframe tbody tr th:only-of-type {\n",
              "        vertical-align: middle;\n",
              "    }\n",
              "\n",
              "    .dataframe tbody tr th {\n",
              "        vertical-align: top;\n",
              "    }\n",
              "\n",
              "    .dataframe thead th {\n",
              "        text-align: right;\n",
              "    }\n",
              "</style>\n",
              "<table border=\"1\" class=\"dataframe\">\n",
              "  <thead>\n",
              "    <tr style=\"text-align: right;\">\n",
              "      <th></th>\n",
              "      <th>competitorname</th>\n",
              "      <th>chocolate</th>\n",
              "      <th>fruity</th>\n",
              "      <th>caramel</th>\n",
              "      <th>peanutyalmondy</th>\n",
              "      <th>nougat</th>\n",
              "      <th>crispedricewafer</th>\n",
              "      <th>hard</th>\n",
              "      <th>bar</th>\n",
              "      <th>pluribus</th>\n",
              "      <th>sugarpercent</th>\n",
              "      <th>pricepercent</th>\n",
              "      <th>winpercent</th>\n",
              "      <th>category</th>\n",
              "    </tr>\n",
              "  </thead>\n",
              "  <tbody>\n",
              "    <tr>\n",
              "      <th>0</th>\n",
              "      <td>100 grand</td>\n",
              "      <td>0</td>\n",
              "      <td>0</td>\n",
              "      <td>1.0</td>\n",
              "      <td>0.0</td>\n",
              "      <td>0.0</td>\n",
              "      <td>1.0</td>\n",
              "      <td>0.0</td>\n",
              "      <td>1.0</td>\n",
              "      <td>0.0</td>\n",
              "      <td>0.732</td>\n",
              "      <td>0.860</td>\n",
              "      <td>66.971725</td>\n",
              "      <td>chocolate</td>\n",
              "    </tr>\n",
              "    <tr>\n",
              "      <th>1</th>\n",
              "      <td>3 musketeers</td>\n",
              "      <td>0</td>\n",
              "      <td>0</td>\n",
              "      <td>0.0</td>\n",
              "      <td>0.0</td>\n",
              "      <td>1.0</td>\n",
              "      <td>0.0</td>\n",
              "      <td>0.0</td>\n",
              "      <td>1.0</td>\n",
              "      <td>0.0</td>\n",
              "      <td>0.604</td>\n",
              "      <td>0.511</td>\n",
              "      <td>67.602936</td>\n",
              "      <td>chocolate</td>\n",
              "    </tr>\n",
              "    <tr>\n",
              "      <th>2</th>\n",
              "      <td>one dime</td>\n",
              "      <td>0</td>\n",
              "      <td>0</td>\n",
              "      <td>0.0</td>\n",
              "      <td>0.0</td>\n",
              "      <td>0.0</td>\n",
              "      <td>0.0</td>\n",
              "      <td>0.0</td>\n",
              "      <td>0.0</td>\n",
              "      <td>0.0</td>\n",
              "      <td>0.011</td>\n",
              "      <td>0.116</td>\n",
              "      <td>32.261086</td>\n",
              "      <td>NaN</td>\n",
              "    </tr>\n",
              "    <tr>\n",
              "      <th>3</th>\n",
              "      <td>one quarter</td>\n",
              "      <td>0</td>\n",
              "      <td>0</td>\n",
              "      <td>0.0</td>\n",
              "      <td>0.0</td>\n",
              "      <td>0.0</td>\n",
              "      <td>0.0</td>\n",
              "      <td>0.0</td>\n",
              "      <td>0.0</td>\n",
              "      <td>0.0</td>\n",
              "      <td>0.011</td>\n",
              "      <td>0.511</td>\n",
              "      <td>46.116505</td>\n",
              "      <td>NaN</td>\n",
              "    </tr>\n",
              "    <tr>\n",
              "      <th>4</th>\n",
              "      <td>air heads</td>\n",
              "      <td>0</td>\n",
              "      <td>0</td>\n",
              "      <td>0.0</td>\n",
              "      <td>0.0</td>\n",
              "      <td>0.0</td>\n",
              "      <td>0.0</td>\n",
              "      <td>0.0</td>\n",
              "      <td>0.0</td>\n",
              "      <td>0.0</td>\n",
              "      <td>0.906</td>\n",
              "      <td>0.511</td>\n",
              "      <td>52.341465</td>\n",
              "      <td>NaN</td>\n",
              "    </tr>\n",
              "  </tbody>\n",
              "</table>\n",
              "</div>"
            ],
            "text/plain": [
              "  competitorname  chocolate  fruity  ...  pricepercent  winpercent   category\n",
              "0      100 grand          0       0  ...         0.860   66.971725  chocolate\n",
              "1   3 musketeers          0       0  ...         0.511   67.602936  chocolate\n",
              "2       one dime          0       0  ...         0.116   32.261086        NaN\n",
              "3    one quarter          0       0  ...         0.511   46.116505        NaN\n",
              "4      air heads          0       0  ...         0.511   52.341465        NaN\n",
              "\n",
              "[5 rows x 14 columns]"
            ]
          },
          "metadata": {
            "tags": []
          },
          "execution_count": 97
        }
      ]
    },
    {
      "cell_type": "code",
      "metadata": {
        "id": "lTigjBC-M3sW",
        "colab_type": "code",
        "outputId": "fc5ac883-cacb-4800-a3cb-b48c16f5da53",
        "colab": {
          "base_uri": "https://localhost:8080/",
          "height": 583
        }
      },
      "source": [
        "display(candy_data.T)"
      ],
      "execution_count": 0,
      "outputs": [
        {
          "output_type": "display_data",
          "data": {
            "text/html": [
              "<div>\n",
              "<style scoped>\n",
              "    .dataframe tbody tr th:only-of-type {\n",
              "        vertical-align: middle;\n",
              "    }\n",
              "\n",
              "    .dataframe tbody tr th {\n",
              "        vertical-align: top;\n",
              "    }\n",
              "\n",
              "    .dataframe thead th {\n",
              "        text-align: right;\n",
              "    }\n",
              "</style>\n",
              "<table border=\"1\" class=\"dataframe\">\n",
              "  <thead>\n",
              "    <tr style=\"text-align: right;\">\n",
              "      <th></th>\n",
              "      <th>0</th>\n",
              "      <th>1</th>\n",
              "      <th>2</th>\n",
              "      <th>3</th>\n",
              "      <th>4</th>\n",
              "      <th>5</th>\n",
              "      <th>6</th>\n",
              "      <th>7</th>\n",
              "      <th>8</th>\n",
              "      <th>9</th>\n",
              "      <th>10</th>\n",
              "      <th>11</th>\n",
              "      <th>12</th>\n",
              "      <th>13</th>\n",
              "      <th>14</th>\n",
              "      <th>15</th>\n",
              "      <th>16</th>\n",
              "      <th>17</th>\n",
              "      <th>18</th>\n",
              "      <th>19</th>\n",
              "      <th>20</th>\n",
              "      <th>21</th>\n",
              "      <th>22</th>\n",
              "      <th>23</th>\n",
              "      <th>24</th>\n",
              "      <th>25</th>\n",
              "      <th>26</th>\n",
              "      <th>27</th>\n",
              "      <th>28</th>\n",
              "      <th>29</th>\n",
              "      <th>30</th>\n",
              "      <th>31</th>\n",
              "      <th>32</th>\n",
              "      <th>33</th>\n",
              "      <th>34</th>\n",
              "      <th>35</th>\n",
              "      <th>36</th>\n",
              "      <th>37</th>\n",
              "      <th>38</th>\n",
              "      <th>39</th>\n",
              "      <th>...</th>\n",
              "      <th>45</th>\n",
              "      <th>46</th>\n",
              "      <th>47</th>\n",
              "      <th>48</th>\n",
              "      <th>49</th>\n",
              "      <th>50</th>\n",
              "      <th>51</th>\n",
              "      <th>52</th>\n",
              "      <th>53</th>\n",
              "      <th>54</th>\n",
              "      <th>55</th>\n",
              "      <th>56</th>\n",
              "      <th>57</th>\n",
              "      <th>58</th>\n",
              "      <th>59</th>\n",
              "      <th>60</th>\n",
              "      <th>61</th>\n",
              "      <th>62</th>\n",
              "      <th>63</th>\n",
              "      <th>64</th>\n",
              "      <th>65</th>\n",
              "      <th>66</th>\n",
              "      <th>67</th>\n",
              "      <th>68</th>\n",
              "      <th>69</th>\n",
              "      <th>70</th>\n",
              "      <th>71</th>\n",
              "      <th>72</th>\n",
              "      <th>73</th>\n",
              "      <th>74</th>\n",
              "      <th>75</th>\n",
              "      <th>76</th>\n",
              "      <th>77</th>\n",
              "      <th>78</th>\n",
              "      <th>79</th>\n",
              "      <th>80</th>\n",
              "      <th>81</th>\n",
              "      <th>82</th>\n",
              "      <th>83</th>\n",
              "      <th>84</th>\n",
              "    </tr>\n",
              "  </thead>\n",
              "  <tbody>\n",
              "    <tr>\n",
              "      <th>competitorname</th>\n",
              "      <td>100 grand</td>\n",
              "      <td>3 musketeers</td>\n",
              "      <td>one dime</td>\n",
              "      <td>one quarter</td>\n",
              "      <td>air heads</td>\n",
              "      <td>almond joy</td>\n",
              "      <td>baby ruth</td>\n",
              "      <td>boston baked beans</td>\n",
              "      <td>candy corn</td>\n",
              "      <td>caramel apple pops</td>\n",
              "      <td>charleston chew</td>\n",
              "      <td>chewey lemonhead fruit mix</td>\n",
              "      <td>chiclets</td>\n",
              "      <td>dots</td>\n",
              "      <td>dum dums</td>\n",
              "      <td>fruit chews</td>\n",
              "      <td>fun dip</td>\n",
              "      <td>gobstopper</td>\n",
              "      <td>haribo gold bears</td>\n",
              "      <td>haribo happy cola</td>\n",
              "      <td>haribo sour bears</td>\n",
              "      <td>haribo twin snakes</td>\n",
              "      <td>hersheys kisses</td>\n",
              "      <td>hersheys krackel</td>\n",
              "      <td>hersheys milk chocolate</td>\n",
              "      <td>hersheys special dark</td>\n",
              "      <td>jawbusters</td>\n",
              "      <td>junior mints</td>\n",
              "      <td>kit kat</td>\n",
              "      <td>laffy taffy</td>\n",
              "      <td>lemonhead</td>\n",
              "      <td>lifesavers big ring gummies</td>\n",
              "      <td>peanut butter m&amp;ms</td>\n",
              "      <td>m&amp;ms</td>\n",
              "      <td>mike &amp; ike</td>\n",
              "      <td>milk duds</td>\n",
              "      <td>milky way</td>\n",
              "      <td>milky way midnight</td>\n",
              "      <td>milky way simply caramel</td>\n",
              "      <td>mounds</td>\n",
              "      <td>...</td>\n",
              "      <td>now &amp; later</td>\n",
              "      <td>payday</td>\n",
              "      <td>peanut m&amp;ms</td>\n",
              "      <td>pixie sticks</td>\n",
              "      <td>pop rocks</td>\n",
              "      <td>red vines</td>\n",
              "      <td>reeses miniatures</td>\n",
              "      <td>reeses peanut butter cup</td>\n",
              "      <td>reeses pieces</td>\n",
              "      <td>reeses stuffed with pieces</td>\n",
              "      <td>ring pop</td>\n",
              "      <td>rolo</td>\n",
              "      <td>root beer barrels</td>\n",
              "      <td>runts</td>\n",
              "      <td>sixlets</td>\n",
              "      <td>skittles original</td>\n",
              "      <td>skittles wildberry</td>\n",
              "      <td>nestle smarties</td>\n",
              "      <td>smarties candy</td>\n",
              "      <td>snickers</td>\n",
              "      <td>snickers crisper</td>\n",
              "      <td>sour patch kids</td>\n",
              "      <td>sour patch tricksters</td>\n",
              "      <td>starburst</td>\n",
              "      <td>strawberry bon bons</td>\n",
              "      <td>sugar babies</td>\n",
              "      <td>sugar daddy</td>\n",
              "      <td>super bubble</td>\n",
              "      <td>swedish fish</td>\n",
              "      <td>tootsie pop</td>\n",
              "      <td>tootsie roll juniors</td>\n",
              "      <td>tootsie roll midgies</td>\n",
              "      <td>tootsie roll snack bars</td>\n",
              "      <td>trolli sour bites</td>\n",
              "      <td>twix</td>\n",
              "      <td>twizzlers</td>\n",
              "      <td>warheads</td>\n",
              "      <td>welchs fruit snacks</td>\n",
              "      <td>werthers original caramel</td>\n",
              "      <td>whoppers</td>\n",
              "    </tr>\n",
              "    <tr>\n",
              "      <th>chocolate</th>\n",
              "      <td>1</td>\n",
              "      <td>1</td>\n",
              "      <td>0</td>\n",
              "      <td>0</td>\n",
              "      <td>0</td>\n",
              "      <td>1</td>\n",
              "      <td>1</td>\n",
              "      <td>0</td>\n",
              "      <td>0</td>\n",
              "      <td>0</td>\n",
              "      <td>1</td>\n",
              "      <td>0</td>\n",
              "      <td>0</td>\n",
              "      <td>0</td>\n",
              "      <td>0</td>\n",
              "      <td>0</td>\n",
              "      <td>0</td>\n",
              "      <td>0</td>\n",
              "      <td>0</td>\n",
              "      <td>0</td>\n",
              "      <td>0</td>\n",
              "      <td>0</td>\n",
              "      <td>1</td>\n",
              "      <td>1</td>\n",
              "      <td>1</td>\n",
              "      <td>1</td>\n",
              "      <td>0</td>\n",
              "      <td>1</td>\n",
              "      <td>1</td>\n",
              "      <td>0</td>\n",
              "      <td>0</td>\n",
              "      <td>0</td>\n",
              "      <td>1</td>\n",
              "      <td>1</td>\n",
              "      <td>0</td>\n",
              "      <td>1</td>\n",
              "      <td>1</td>\n",
              "      <td>1</td>\n",
              "      <td>1</td>\n",
              "      <td>1</td>\n",
              "      <td>...</td>\n",
              "      <td>0</td>\n",
              "      <td>0</td>\n",
              "      <td>1</td>\n",
              "      <td>0</td>\n",
              "      <td>0</td>\n",
              "      <td>0</td>\n",
              "      <td>1</td>\n",
              "      <td>1</td>\n",
              "      <td>1</td>\n",
              "      <td>1</td>\n",
              "      <td>0</td>\n",
              "      <td>1</td>\n",
              "      <td>0</td>\n",
              "      <td>0</td>\n",
              "      <td>1</td>\n",
              "      <td>0</td>\n",
              "      <td>0</td>\n",
              "      <td>1</td>\n",
              "      <td>0</td>\n",
              "      <td>1</td>\n",
              "      <td>1</td>\n",
              "      <td>0</td>\n",
              "      <td>0</td>\n",
              "      <td>0</td>\n",
              "      <td>0</td>\n",
              "      <td>0</td>\n",
              "      <td>0</td>\n",
              "      <td>0</td>\n",
              "      <td>0</td>\n",
              "      <td>1</td>\n",
              "      <td>1</td>\n",
              "      <td>1</td>\n",
              "      <td>1</td>\n",
              "      <td>0</td>\n",
              "      <td>1</td>\n",
              "      <td>0</td>\n",
              "      <td>0</td>\n",
              "      <td>0</td>\n",
              "      <td>0</td>\n",
              "      <td>1</td>\n",
              "    </tr>\n",
              "    <tr>\n",
              "      <th>fruity</th>\n",
              "      <td>0</td>\n",
              "      <td>0</td>\n",
              "      <td>0</td>\n",
              "      <td>0</td>\n",
              "      <td>1</td>\n",
              "      <td>0</td>\n",
              "      <td>0</td>\n",
              "      <td>0</td>\n",
              "      <td>0</td>\n",
              "      <td>1</td>\n",
              "      <td>0</td>\n",
              "      <td>1</td>\n",
              "      <td>1</td>\n",
              "      <td>1</td>\n",
              "      <td>1</td>\n",
              "      <td>1</td>\n",
              "      <td>1</td>\n",
              "      <td>1</td>\n",
              "      <td>1</td>\n",
              "      <td>0</td>\n",
              "      <td>1</td>\n",
              "      <td>1</td>\n",
              "      <td>0</td>\n",
              "      <td>0</td>\n",
              "      <td>0</td>\n",
              "      <td>0</td>\n",
              "      <td>1</td>\n",
              "      <td>0</td>\n",
              "      <td>0</td>\n",
              "      <td>1</td>\n",
              "      <td>1</td>\n",
              "      <td>1</td>\n",
              "      <td>0</td>\n",
              "      <td>0</td>\n",
              "      <td>1</td>\n",
              "      <td>0</td>\n",
              "      <td>0</td>\n",
              "      <td>0</td>\n",
              "      <td>0</td>\n",
              "      <td>0</td>\n",
              "      <td>...</td>\n",
              "      <td>1</td>\n",
              "      <td>0</td>\n",
              "      <td>0</td>\n",
              "      <td>0</td>\n",
              "      <td>1</td>\n",
              "      <td>1</td>\n",
              "      <td>0</td>\n",
              "      <td>0</td>\n",
              "      <td>0</td>\n",
              "      <td>0</td>\n",
              "      <td>1</td>\n",
              "      <td>0</td>\n",
              "      <td>0</td>\n",
              "      <td>1</td>\n",
              "      <td>0</td>\n",
              "      <td>1</td>\n",
              "      <td>1</td>\n",
              "      <td>0</td>\n",
              "      <td>1</td>\n",
              "      <td>0</td>\n",
              "      <td>0</td>\n",
              "      <td>1</td>\n",
              "      <td>1</td>\n",
              "      <td>1</td>\n",
              "      <td>1</td>\n",
              "      <td>0</td>\n",
              "      <td>0</td>\n",
              "      <td>1</td>\n",
              "      <td>1</td>\n",
              "      <td>1</td>\n",
              "      <td>0</td>\n",
              "      <td>0</td>\n",
              "      <td>0</td>\n",
              "      <td>1</td>\n",
              "      <td>0</td>\n",
              "      <td>1</td>\n",
              "      <td>1</td>\n",
              "      <td>1</td>\n",
              "      <td>0</td>\n",
              "      <td>0</td>\n",
              "    </tr>\n",
              "    <tr>\n",
              "      <th>caramel</th>\n",
              "      <td>1</td>\n",
              "      <td>0</td>\n",
              "      <td>0</td>\n",
              "      <td>0</td>\n",
              "      <td>0</td>\n",
              "      <td>0</td>\n",
              "      <td>1</td>\n",
              "      <td>0</td>\n",
              "      <td>0</td>\n",
              "      <td>1</td>\n",
              "      <td>0</td>\n",
              "      <td>0</td>\n",
              "      <td>0</td>\n",
              "      <td>0</td>\n",
              "      <td>0</td>\n",
              "      <td>0</td>\n",
              "      <td>0</td>\n",
              "      <td>0</td>\n",
              "      <td>0</td>\n",
              "      <td>0</td>\n",
              "      <td>0</td>\n",
              "      <td>0</td>\n",
              "      <td>0</td>\n",
              "      <td>0</td>\n",
              "      <td>0</td>\n",
              "      <td>0</td>\n",
              "      <td>0</td>\n",
              "      <td>0</td>\n",
              "      <td>0</td>\n",
              "      <td>0</td>\n",
              "      <td>0</td>\n",
              "      <td>0</td>\n",
              "      <td>0</td>\n",
              "      <td>0</td>\n",
              "      <td>0</td>\n",
              "      <td>1</td>\n",
              "      <td>1</td>\n",
              "      <td>1</td>\n",
              "      <td>1</td>\n",
              "      <td>0</td>\n",
              "      <td>...</td>\n",
              "      <td>0</td>\n",
              "      <td>0</td>\n",
              "      <td>0</td>\n",
              "      <td>0</td>\n",
              "      <td>0</td>\n",
              "      <td>0</td>\n",
              "      <td>0</td>\n",
              "      <td>0</td>\n",
              "      <td>0</td>\n",
              "      <td>0</td>\n",
              "      <td>0</td>\n",
              "      <td>1</td>\n",
              "      <td>0</td>\n",
              "      <td>0</td>\n",
              "      <td>0</td>\n",
              "      <td>0</td>\n",
              "      <td>0</td>\n",
              "      <td>0</td>\n",
              "      <td>0</td>\n",
              "      <td>1</td>\n",
              "      <td>1</td>\n",
              "      <td>0</td>\n",
              "      <td>0</td>\n",
              "      <td>0</td>\n",
              "      <td>0</td>\n",
              "      <td>1</td>\n",
              "      <td>1</td>\n",
              "      <td>0</td>\n",
              "      <td>0</td>\n",
              "      <td>0</td>\n",
              "      <td>0</td>\n",
              "      <td>0</td>\n",
              "      <td>0</td>\n",
              "      <td>0</td>\n",
              "      <td>1</td>\n",
              "      <td>0</td>\n",
              "      <td>0</td>\n",
              "      <td>0</td>\n",
              "      <td>1</td>\n",
              "      <td>0</td>\n",
              "    </tr>\n",
              "    <tr>\n",
              "      <th>peanutyalmondy</th>\n",
              "      <td>0</td>\n",
              "      <td>0</td>\n",
              "      <td>0</td>\n",
              "      <td>0</td>\n",
              "      <td>0</td>\n",
              "      <td>1</td>\n",
              "      <td>1</td>\n",
              "      <td>1</td>\n",
              "      <td>0</td>\n",
              "      <td>0</td>\n",
              "      <td>0</td>\n",
              "      <td>0</td>\n",
              "      <td>0</td>\n",
              "      <td>0</td>\n",
              "      <td>0</td>\n",
              "      <td>0</td>\n",
              "      <td>0</td>\n",
              "      <td>0</td>\n",
              "      <td>0</td>\n",
              "      <td>0</td>\n",
              "      <td>0</td>\n",
              "      <td>0</td>\n",
              "      <td>0</td>\n",
              "      <td>0</td>\n",
              "      <td>0</td>\n",
              "      <td>0</td>\n",
              "      <td>0</td>\n",
              "      <td>0</td>\n",
              "      <td>0</td>\n",
              "      <td>0</td>\n",
              "      <td>0</td>\n",
              "      <td>0</td>\n",
              "      <td>1</td>\n",
              "      <td>0</td>\n",
              "      <td>0</td>\n",
              "      <td>0</td>\n",
              "      <td>0</td>\n",
              "      <td>0</td>\n",
              "      <td>0</td>\n",
              "      <td>0</td>\n",
              "      <td>...</td>\n",
              "      <td>0</td>\n",
              "      <td>1</td>\n",
              "      <td>1</td>\n",
              "      <td>0</td>\n",
              "      <td>0</td>\n",
              "      <td>0</td>\n",
              "      <td>1</td>\n",
              "      <td>1</td>\n",
              "      <td>1</td>\n",
              "      <td>1</td>\n",
              "      <td>0</td>\n",
              "      <td>0</td>\n",
              "      <td>0</td>\n",
              "      <td>0</td>\n",
              "      <td>0</td>\n",
              "      <td>0</td>\n",
              "      <td>0</td>\n",
              "      <td>0</td>\n",
              "      <td>0</td>\n",
              "      <td>1</td>\n",
              "      <td>1</td>\n",
              "      <td>0</td>\n",
              "      <td>0</td>\n",
              "      <td>0</td>\n",
              "      <td>0</td>\n",
              "      <td>0</td>\n",
              "      <td>0</td>\n",
              "      <td>0</td>\n",
              "      <td>0</td>\n",
              "      <td>0</td>\n",
              "      <td>0</td>\n",
              "      <td>0</td>\n",
              "      <td>0</td>\n",
              "      <td>0</td>\n",
              "      <td>0</td>\n",
              "      <td>0</td>\n",
              "      <td>0</td>\n",
              "      <td>0</td>\n",
              "      <td>0</td>\n",
              "      <td>0</td>\n",
              "    </tr>\n",
              "    <tr>\n",
              "      <th>nougat</th>\n",
              "      <td>0</td>\n",
              "      <td>1</td>\n",
              "      <td>0</td>\n",
              "      <td>0</td>\n",
              "      <td>0</td>\n",
              "      <td>0</td>\n",
              "      <td>1</td>\n",
              "      <td>0</td>\n",
              "      <td>0</td>\n",
              "      <td>0</td>\n",
              "      <td>1</td>\n",
              "      <td>0</td>\n",
              "      <td>0</td>\n",
              "      <td>0</td>\n",
              "      <td>0</td>\n",
              "      <td>0</td>\n",
              "      <td>0</td>\n",
              "      <td>0</td>\n",
              "      <td>0</td>\n",
              "      <td>0</td>\n",
              "      <td>0</td>\n",
              "      <td>0</td>\n",
              "      <td>0</td>\n",
              "      <td>0</td>\n",
              "      <td>0</td>\n",
              "      <td>0</td>\n",
              "      <td>0</td>\n",
              "      <td>0</td>\n",
              "      <td>0</td>\n",
              "      <td>0</td>\n",
              "      <td>0</td>\n",
              "      <td>0</td>\n",
              "      <td>0</td>\n",
              "      <td>0</td>\n",
              "      <td>0</td>\n",
              "      <td>0</td>\n",
              "      <td>1</td>\n",
              "      <td>1</td>\n",
              "      <td>0</td>\n",
              "      <td>0</td>\n",
              "      <td>...</td>\n",
              "      <td>0</td>\n",
              "      <td>1</td>\n",
              "      <td>0</td>\n",
              "      <td>0</td>\n",
              "      <td>0</td>\n",
              "      <td>0</td>\n",
              "      <td>0</td>\n",
              "      <td>0</td>\n",
              "      <td>0</td>\n",
              "      <td>0</td>\n",
              "      <td>0</td>\n",
              "      <td>0</td>\n",
              "      <td>0</td>\n",
              "      <td>0</td>\n",
              "      <td>0</td>\n",
              "      <td>0</td>\n",
              "      <td>0</td>\n",
              "      <td>0</td>\n",
              "      <td>0</td>\n",
              "      <td>1</td>\n",
              "      <td>0</td>\n",
              "      <td>0</td>\n",
              "      <td>0</td>\n",
              "      <td>0</td>\n",
              "      <td>0</td>\n",
              "      <td>0</td>\n",
              "      <td>0</td>\n",
              "      <td>0</td>\n",
              "      <td>0</td>\n",
              "      <td>0</td>\n",
              "      <td>0</td>\n",
              "      <td>0</td>\n",
              "      <td>0</td>\n",
              "      <td>0</td>\n",
              "      <td>0</td>\n",
              "      <td>0</td>\n",
              "      <td>0</td>\n",
              "      <td>0</td>\n",
              "      <td>0</td>\n",
              "      <td>0</td>\n",
              "    </tr>\n",
              "    <tr>\n",
              "      <th>crispedricewafer</th>\n",
              "      <td>1</td>\n",
              "      <td>0</td>\n",
              "      <td>0</td>\n",
              "      <td>0</td>\n",
              "      <td>0</td>\n",
              "      <td>0</td>\n",
              "      <td>0</td>\n",
              "      <td>0</td>\n",
              "      <td>0</td>\n",
              "      <td>0</td>\n",
              "      <td>0</td>\n",
              "      <td>0</td>\n",
              "      <td>0</td>\n",
              "      <td>0</td>\n",
              "      <td>0</td>\n",
              "      <td>0</td>\n",
              "      <td>0</td>\n",
              "      <td>0</td>\n",
              "      <td>0</td>\n",
              "      <td>0</td>\n",
              "      <td>0</td>\n",
              "      <td>0</td>\n",
              "      <td>0</td>\n",
              "      <td>1</td>\n",
              "      <td>0</td>\n",
              "      <td>0</td>\n",
              "      <td>0</td>\n",
              "      <td>0</td>\n",
              "      <td>1</td>\n",
              "      <td>0</td>\n",
              "      <td>0</td>\n",
              "      <td>0</td>\n",
              "      <td>0</td>\n",
              "      <td>0</td>\n",
              "      <td>0</td>\n",
              "      <td>0</td>\n",
              "      <td>0</td>\n",
              "      <td>0</td>\n",
              "      <td>0</td>\n",
              "      <td>0</td>\n",
              "      <td>...</td>\n",
              "      <td>0</td>\n",
              "      <td>0</td>\n",
              "      <td>0</td>\n",
              "      <td>0</td>\n",
              "      <td>0</td>\n",
              "      <td>0</td>\n",
              "      <td>0</td>\n",
              "      <td>0</td>\n",
              "      <td>0</td>\n",
              "      <td>0</td>\n",
              "      <td>0</td>\n",
              "      <td>0</td>\n",
              "      <td>0</td>\n",
              "      <td>0</td>\n",
              "      <td>0</td>\n",
              "      <td>0</td>\n",
              "      <td>0</td>\n",
              "      <td>0</td>\n",
              "      <td>0</td>\n",
              "      <td>0</td>\n",
              "      <td>1</td>\n",
              "      <td>0</td>\n",
              "      <td>0</td>\n",
              "      <td>0</td>\n",
              "      <td>0</td>\n",
              "      <td>0</td>\n",
              "      <td>0</td>\n",
              "      <td>0</td>\n",
              "      <td>0</td>\n",
              "      <td>0</td>\n",
              "      <td>0</td>\n",
              "      <td>0</td>\n",
              "      <td>0</td>\n",
              "      <td>0</td>\n",
              "      <td>1</td>\n",
              "      <td>0</td>\n",
              "      <td>0</td>\n",
              "      <td>0</td>\n",
              "      <td>0</td>\n",
              "      <td>1</td>\n",
              "    </tr>\n",
              "    <tr>\n",
              "      <th>hard</th>\n",
              "      <td>0</td>\n",
              "      <td>0</td>\n",
              "      <td>0</td>\n",
              "      <td>0</td>\n",
              "      <td>0</td>\n",
              "      <td>0</td>\n",
              "      <td>0</td>\n",
              "      <td>0</td>\n",
              "      <td>0</td>\n",
              "      <td>0</td>\n",
              "      <td>0</td>\n",
              "      <td>0</td>\n",
              "      <td>0</td>\n",
              "      <td>0</td>\n",
              "      <td>1</td>\n",
              "      <td>0</td>\n",
              "      <td>1</td>\n",
              "      <td>1</td>\n",
              "      <td>0</td>\n",
              "      <td>0</td>\n",
              "      <td>0</td>\n",
              "      <td>0</td>\n",
              "      <td>0</td>\n",
              "      <td>0</td>\n",
              "      <td>0</td>\n",
              "      <td>0</td>\n",
              "      <td>1</td>\n",
              "      <td>0</td>\n",
              "      <td>0</td>\n",
              "      <td>0</td>\n",
              "      <td>1</td>\n",
              "      <td>0</td>\n",
              "      <td>0</td>\n",
              "      <td>0</td>\n",
              "      <td>0</td>\n",
              "      <td>0</td>\n",
              "      <td>0</td>\n",
              "      <td>0</td>\n",
              "      <td>0</td>\n",
              "      <td>0</td>\n",
              "      <td>...</td>\n",
              "      <td>0</td>\n",
              "      <td>0</td>\n",
              "      <td>0</td>\n",
              "      <td>0</td>\n",
              "      <td>1</td>\n",
              "      <td>0</td>\n",
              "      <td>0</td>\n",
              "      <td>0</td>\n",
              "      <td>0</td>\n",
              "      <td>0</td>\n",
              "      <td>1</td>\n",
              "      <td>0</td>\n",
              "      <td>1</td>\n",
              "      <td>1</td>\n",
              "      <td>0</td>\n",
              "      <td>0</td>\n",
              "      <td>0</td>\n",
              "      <td>0</td>\n",
              "      <td>1</td>\n",
              "      <td>0</td>\n",
              "      <td>0</td>\n",
              "      <td>0</td>\n",
              "      <td>0</td>\n",
              "      <td>0</td>\n",
              "      <td>1</td>\n",
              "      <td>0</td>\n",
              "      <td>0</td>\n",
              "      <td>0</td>\n",
              "      <td>0</td>\n",
              "      <td>1</td>\n",
              "      <td>0</td>\n",
              "      <td>0</td>\n",
              "      <td>0</td>\n",
              "      <td>0</td>\n",
              "      <td>0</td>\n",
              "      <td>0</td>\n",
              "      <td>1</td>\n",
              "      <td>0</td>\n",
              "      <td>1</td>\n",
              "      <td>0</td>\n",
              "    </tr>\n",
              "    <tr>\n",
              "      <th>bar</th>\n",
              "      <td>1</td>\n",
              "      <td>1</td>\n",
              "      <td>0</td>\n",
              "      <td>0</td>\n",
              "      <td>0</td>\n",
              "      <td>1</td>\n",
              "      <td>1</td>\n",
              "      <td>0</td>\n",
              "      <td>0</td>\n",
              "      <td>0</td>\n",
              "      <td>1</td>\n",
              "      <td>0</td>\n",
              "      <td>0</td>\n",
              "      <td>0</td>\n",
              "      <td>0</td>\n",
              "      <td>0</td>\n",
              "      <td>0</td>\n",
              "      <td>0</td>\n",
              "      <td>0</td>\n",
              "      <td>0</td>\n",
              "      <td>0</td>\n",
              "      <td>0</td>\n",
              "      <td>0</td>\n",
              "      <td>1</td>\n",
              "      <td>1</td>\n",
              "      <td>1</td>\n",
              "      <td>0</td>\n",
              "      <td>0</td>\n",
              "      <td>1</td>\n",
              "      <td>0</td>\n",
              "      <td>0</td>\n",
              "      <td>0</td>\n",
              "      <td>0</td>\n",
              "      <td>0</td>\n",
              "      <td>0</td>\n",
              "      <td>0</td>\n",
              "      <td>1</td>\n",
              "      <td>1</td>\n",
              "      <td>1</td>\n",
              "      <td>1</td>\n",
              "      <td>...</td>\n",
              "      <td>0</td>\n",
              "      <td>1</td>\n",
              "      <td>0</td>\n",
              "      <td>0</td>\n",
              "      <td>0</td>\n",
              "      <td>0</td>\n",
              "      <td>0</td>\n",
              "      <td>0</td>\n",
              "      <td>0</td>\n",
              "      <td>0</td>\n",
              "      <td>0</td>\n",
              "      <td>0</td>\n",
              "      <td>0</td>\n",
              "      <td>0</td>\n",
              "      <td>0</td>\n",
              "      <td>0</td>\n",
              "      <td>0</td>\n",
              "      <td>0</td>\n",
              "      <td>0</td>\n",
              "      <td>1</td>\n",
              "      <td>1</td>\n",
              "      <td>0</td>\n",
              "      <td>0</td>\n",
              "      <td>0</td>\n",
              "      <td>0</td>\n",
              "      <td>0</td>\n",
              "      <td>0</td>\n",
              "      <td>0</td>\n",
              "      <td>0</td>\n",
              "      <td>0</td>\n",
              "      <td>0</td>\n",
              "      <td>0</td>\n",
              "      <td>1</td>\n",
              "      <td>0</td>\n",
              "      <td>1</td>\n",
              "      <td>0</td>\n",
              "      <td>0</td>\n",
              "      <td>0</td>\n",
              "      <td>0</td>\n",
              "      <td>0</td>\n",
              "    </tr>\n",
              "    <tr>\n",
              "      <th>pluribus</th>\n",
              "      <td>0</td>\n",
              "      <td>0</td>\n",
              "      <td>0</td>\n",
              "      <td>0</td>\n",
              "      <td>0</td>\n",
              "      <td>0</td>\n",
              "      <td>0</td>\n",
              "      <td>1</td>\n",
              "      <td>1</td>\n",
              "      <td>0</td>\n",
              "      <td>0</td>\n",
              "      <td>1</td>\n",
              "      <td>1</td>\n",
              "      <td>1</td>\n",
              "      <td>0</td>\n",
              "      <td>1</td>\n",
              "      <td>0</td>\n",
              "      <td>1</td>\n",
              "      <td>1</td>\n",
              "      <td>1</td>\n",
              "      <td>1</td>\n",
              "      <td>1</td>\n",
              "      <td>1</td>\n",
              "      <td>0</td>\n",
              "      <td>0</td>\n",
              "      <td>0</td>\n",
              "      <td>1</td>\n",
              "      <td>1</td>\n",
              "      <td>0</td>\n",
              "      <td>0</td>\n",
              "      <td>0</td>\n",
              "      <td>0</td>\n",
              "      <td>1</td>\n",
              "      <td>1</td>\n",
              "      <td>1</td>\n",
              "      <td>1</td>\n",
              "      <td>0</td>\n",
              "      <td>0</td>\n",
              "      <td>0</td>\n",
              "      <td>0</td>\n",
              "      <td>...</td>\n",
              "      <td>1</td>\n",
              "      <td>0</td>\n",
              "      <td>1</td>\n",
              "      <td>1</td>\n",
              "      <td>1</td>\n",
              "      <td>1</td>\n",
              "      <td>0</td>\n",
              "      <td>0</td>\n",
              "      <td>1</td>\n",
              "      <td>0</td>\n",
              "      <td>0</td>\n",
              "      <td>1</td>\n",
              "      <td>1</td>\n",
              "      <td>1</td>\n",
              "      <td>1</td>\n",
              "      <td>1</td>\n",
              "      <td>1</td>\n",
              "      <td>1</td>\n",
              "      <td>1</td>\n",
              "      <td>0</td>\n",
              "      <td>0</td>\n",
              "      <td>1</td>\n",
              "      <td>1</td>\n",
              "      <td>1</td>\n",
              "      <td>1</td>\n",
              "      <td>1</td>\n",
              "      <td>0</td>\n",
              "      <td>0</td>\n",
              "      <td>1</td>\n",
              "      <td>0</td>\n",
              "      <td>0</td>\n",
              "      <td>1</td>\n",
              "      <td>0</td>\n",
              "      <td>1</td>\n",
              "      <td>0</td>\n",
              "      <td>0</td>\n",
              "      <td>0</td>\n",
              "      <td>1</td>\n",
              "      <td>0</td>\n",
              "      <td>1</td>\n",
              "    </tr>\n",
              "    <tr>\n",
              "      <th>sugarpercent</th>\n",
              "      <td>0.732</td>\n",
              "      <td>0.604</td>\n",
              "      <td>0.011</td>\n",
              "      <td>0.011</td>\n",
              "      <td>0.906</td>\n",
              "      <td>0.465</td>\n",
              "      <td>0.604</td>\n",
              "      <td>0.313</td>\n",
              "      <td>0.906</td>\n",
              "      <td>0.604</td>\n",
              "      <td>0.604</td>\n",
              "      <td>0.732</td>\n",
              "      <td>0.046</td>\n",
              "      <td>0.732</td>\n",
              "      <td>0.732</td>\n",
              "      <td>0.127</td>\n",
              "      <td>0.732</td>\n",
              "      <td>0.906</td>\n",
              "      <td>0.465</td>\n",
              "      <td>0.465</td>\n",
              "      <td>0.465</td>\n",
              "      <td>0.465</td>\n",
              "      <td>0.127</td>\n",
              "      <td>0.43</td>\n",
              "      <td>0.43</td>\n",
              "      <td>0.43</td>\n",
              "      <td>0.093</td>\n",
              "      <td>0.197</td>\n",
              "      <td>0.313</td>\n",
              "      <td>0.22</td>\n",
              "      <td>0.046</td>\n",
              "      <td>0.267</td>\n",
              "      <td>0.825</td>\n",
              "      <td>0.825</td>\n",
              "      <td>0.872</td>\n",
              "      <td>0.302</td>\n",
              "      <td>0.604</td>\n",
              "      <td>0.732</td>\n",
              "      <td>0.965</td>\n",
              "      <td>0.313</td>\n",
              "      <td>...</td>\n",
              "      <td>0.22</td>\n",
              "      <td>0.465</td>\n",
              "      <td>0.593</td>\n",
              "      <td>0.093</td>\n",
              "      <td>0.604</td>\n",
              "      <td>0.581</td>\n",
              "      <td>0.034</td>\n",
              "      <td>0.72</td>\n",
              "      <td>0.406</td>\n",
              "      <td>0.988</td>\n",
              "      <td>0.732</td>\n",
              "      <td>0.86</td>\n",
              "      <td>0.732</td>\n",
              "      <td>0.872</td>\n",
              "      <td>0.22</td>\n",
              "      <td>0.941</td>\n",
              "      <td>0.941</td>\n",
              "      <td>0.267</td>\n",
              "      <td>0.267</td>\n",
              "      <td>0.546</td>\n",
              "      <td>0.604</td>\n",
              "      <td>0.069</td>\n",
              "      <td>0.069</td>\n",
              "      <td>0.151</td>\n",
              "      <td>0.569</td>\n",
              "      <td>0.965</td>\n",
              "      <td>0.418</td>\n",
              "      <td>0.162</td>\n",
              "      <td>0.604</td>\n",
              "      <td>0.604</td>\n",
              "      <td>0.313</td>\n",
              "      <td>0.174</td>\n",
              "      <td>0.465</td>\n",
              "      <td>0.313</td>\n",
              "      <td>0.546</td>\n",
              "      <td>0.22</td>\n",
              "      <td>0.093</td>\n",
              "      <td>0.313</td>\n",
              "      <td>0.186</td>\n",
              "      <td>0.872</td>\n",
              "    </tr>\n",
              "    <tr>\n",
              "      <th>pricepercent</th>\n",
              "      <td>0.86</td>\n",
              "      <td>0.511</td>\n",
              "      <td>0.116</td>\n",
              "      <td>0.511</td>\n",
              "      <td>0.511</td>\n",
              "      <td>0.767</td>\n",
              "      <td>0.767</td>\n",
              "      <td>0.511</td>\n",
              "      <td>0.325</td>\n",
              "      <td>0.325</td>\n",
              "      <td>0.511</td>\n",
              "      <td>0.511</td>\n",
              "      <td>0.325</td>\n",
              "      <td>0.511</td>\n",
              "      <td>0.034</td>\n",
              "      <td>0.034</td>\n",
              "      <td>0.325</td>\n",
              "      <td>0.453</td>\n",
              "      <td>0.465</td>\n",
              "      <td>0.465</td>\n",
              "      <td>0.465</td>\n",
              "      <td>0.465</td>\n",
              "      <td>0.093</td>\n",
              "      <td>0.918</td>\n",
              "      <td>0.918</td>\n",
              "      <td>0.918</td>\n",
              "      <td>0.511</td>\n",
              "      <td>0.511</td>\n",
              "      <td>0.511</td>\n",
              "      <td>0.116</td>\n",
              "      <td>0.104</td>\n",
              "      <td>0.279</td>\n",
              "      <td>0.651</td>\n",
              "      <td>0.651</td>\n",
              "      <td>0.325</td>\n",
              "      <td>0.511</td>\n",
              "      <td>0.651</td>\n",
              "      <td>0.441</td>\n",
              "      <td>0.86</td>\n",
              "      <td>0.86</td>\n",
              "      <td>...</td>\n",
              "      <td>0.325</td>\n",
              "      <td>0.767</td>\n",
              "      <td>0.651</td>\n",
              "      <td>0.023</td>\n",
              "      <td>0.837</td>\n",
              "      <td>0.116</td>\n",
              "      <td>0.279</td>\n",
              "      <td>0.651</td>\n",
              "      <td>0.651</td>\n",
              "      <td>0.651</td>\n",
              "      <td>0.965</td>\n",
              "      <td>0.86</td>\n",
              "      <td>0.069</td>\n",
              "      <td>0.279</td>\n",
              "      <td>0.081</td>\n",
              "      <td>0.22</td>\n",
              "      <td>0.22</td>\n",
              "      <td>0.976</td>\n",
              "      <td>0.116</td>\n",
              "      <td>0.651</td>\n",
              "      <td>0.651</td>\n",
              "      <td>0.116</td>\n",
              "      <td>0.116</td>\n",
              "      <td>0.22</td>\n",
              "      <td>0.058</td>\n",
              "      <td>0.767</td>\n",
              "      <td>0.325</td>\n",
              "      <td>0.116</td>\n",
              "      <td>0.755</td>\n",
              "      <td>0.325</td>\n",
              "      <td>0.511</td>\n",
              "      <td>0.011</td>\n",
              "      <td>0.325</td>\n",
              "      <td>0.255</td>\n",
              "      <td>0.906</td>\n",
              "      <td>0.116</td>\n",
              "      <td>0.116</td>\n",
              "      <td>0.313</td>\n",
              "      <td>0.267</td>\n",
              "      <td>0.848</td>\n",
              "    </tr>\n",
              "    <tr>\n",
              "      <th>winpercent</th>\n",
              "      <td>66.9717</td>\n",
              "      <td>67.6029</td>\n",
              "      <td>32.2611</td>\n",
              "      <td>46.1165</td>\n",
              "      <td>52.3415</td>\n",
              "      <td>50.3475</td>\n",
              "      <td>56.9145</td>\n",
              "      <td>23.4178</td>\n",
              "      <td>38.011</td>\n",
              "      <td>34.5177</td>\n",
              "      <td>38.975</td>\n",
              "      <td>36.0176</td>\n",
              "      <td>24.525</td>\n",
              "      <td>42.2721</td>\n",
              "      <td>39.4606</td>\n",
              "      <td>43.0889</td>\n",
              "      <td>39.1855</td>\n",
              "      <td>46.7833</td>\n",
              "      <td>57.1197</td>\n",
              "      <td>34.159</td>\n",
              "      <td>51.4124</td>\n",
              "      <td>42.1788</td>\n",
              "      <td>55.3755</td>\n",
              "      <td>62.2845</td>\n",
              "      <td>56.4905</td>\n",
              "      <td>59.2361</td>\n",
              "      <td>28.1274</td>\n",
              "      <td>57.2193</td>\n",
              "      <td>76.7686</td>\n",
              "      <td>41.3896</td>\n",
              "      <td>39.1411</td>\n",
              "      <td>52.9114</td>\n",
              "      <td>71.4651</td>\n",
              "      <td>66.5746</td>\n",
              "      <td>46.4117</td>\n",
              "      <td>55.0641</td>\n",
              "      <td>73.0996</td>\n",
              "      <td>60.8007</td>\n",
              "      <td>64.3533</td>\n",
              "      <td>47.8298</td>\n",
              "      <td>...</td>\n",
              "      <td>39.4468</td>\n",
              "      <td>46.2966</td>\n",
              "      <td>69.4838</td>\n",
              "      <td>37.7223</td>\n",
              "      <td>41.2655</td>\n",
              "      <td>37.3485</td>\n",
              "      <td>81.8663</td>\n",
              "      <td>84.1803</td>\n",
              "      <td>73.435</td>\n",
              "      <td>72.8879</td>\n",
              "      <td>35.2908</td>\n",
              "      <td>65.7163</td>\n",
              "      <td>29.7037</td>\n",
              "      <td>42.8491</td>\n",
              "      <td>34.722</td>\n",
              "      <td>63.0851</td>\n",
              "      <td>55.1037</td>\n",
              "      <td>37.8872</td>\n",
              "      <td>45.9958</td>\n",
              "      <td>76.6738</td>\n",
              "      <td>59.5293</td>\n",
              "      <td>59.864</td>\n",
              "      <td>52.8259</td>\n",
              "      <td>67.0376</td>\n",
              "      <td>34.579</td>\n",
              "      <td>33.4376</td>\n",
              "      <td>32.231</td>\n",
              "      <td>27.3039</td>\n",
              "      <td>54.8611</td>\n",
              "      <td>48.9827</td>\n",
              "      <td>43.0689</td>\n",
              "      <td>45.7367</td>\n",
              "      <td>49.6535</td>\n",
              "      <td>47.1732</td>\n",
              "      <td>81.6429</td>\n",
              "      <td>45.4663</td>\n",
              "      <td>39.0119</td>\n",
              "      <td>44.3755</td>\n",
              "      <td>41.9043</td>\n",
              "      <td>49.5241</td>\n",
              "    </tr>\n",
              "    <tr>\n",
              "      <th>category</th>\n",
              "      <td>NaN</td>\n",
              "      <td>chocolate</td>\n",
              "      <td>NaN</td>\n",
              "      <td>NaN</td>\n",
              "      <td>NaN</td>\n",
              "      <td>NaN</td>\n",
              "      <td>NaN</td>\n",
              "      <td>NaN</td>\n",
              "      <td>NaN</td>\n",
              "      <td>NaN</td>\n",
              "      <td>NaN</td>\n",
              "      <td>NaN</td>\n",
              "      <td>NaN</td>\n",
              "      <td>NaN</td>\n",
              "      <td>NaN</td>\n",
              "      <td>NaN</td>\n",
              "      <td>NaN</td>\n",
              "      <td>NaN</td>\n",
              "      <td>NaN</td>\n",
              "      <td>NaN</td>\n",
              "      <td>NaN</td>\n",
              "      <td>NaN</td>\n",
              "      <td>NaN</td>\n",
              "      <td>NaN</td>\n",
              "      <td>NaN</td>\n",
              "      <td>NaN</td>\n",
              "      <td>NaN</td>\n",
              "      <td>NaN</td>\n",
              "      <td>NaN</td>\n",
              "      <td>NaN</td>\n",
              "      <td>NaN</td>\n",
              "      <td>NaN</td>\n",
              "      <td>NaN</td>\n",
              "      <td>NaN</td>\n",
              "      <td>NaN</td>\n",
              "      <td>NaN</td>\n",
              "      <td>NaN</td>\n",
              "      <td>NaN</td>\n",
              "      <td>NaN</td>\n",
              "      <td>NaN</td>\n",
              "      <td>...</td>\n",
              "      <td>NaN</td>\n",
              "      <td>NaN</td>\n",
              "      <td>NaN</td>\n",
              "      <td>NaN</td>\n",
              "      <td>NaN</td>\n",
              "      <td>NaN</td>\n",
              "      <td>NaN</td>\n",
              "      <td>NaN</td>\n",
              "      <td>NaN</td>\n",
              "      <td>NaN</td>\n",
              "      <td>NaN</td>\n",
              "      <td>NaN</td>\n",
              "      <td>NaN</td>\n",
              "      <td>NaN</td>\n",
              "      <td>NaN</td>\n",
              "      <td>NaN</td>\n",
              "      <td>NaN</td>\n",
              "      <td>NaN</td>\n",
              "      <td>NaN</td>\n",
              "      <td>NaN</td>\n",
              "      <td>NaN</td>\n",
              "      <td>NaN</td>\n",
              "      <td>NaN</td>\n",
              "      <td>NaN</td>\n",
              "      <td>NaN</td>\n",
              "      <td>NaN</td>\n",
              "      <td>NaN</td>\n",
              "      <td>NaN</td>\n",
              "      <td>NaN</td>\n",
              "      <td>NaN</td>\n",
              "      <td>NaN</td>\n",
              "      <td>NaN</td>\n",
              "      <td>NaN</td>\n",
              "      <td>NaN</td>\n",
              "      <td>NaN</td>\n",
              "      <td>NaN</td>\n",
              "      <td>NaN</td>\n",
              "      <td>NaN</td>\n",
              "      <td>NaN</td>\n",
              "      <td>NaN</td>\n",
              "    </tr>\n",
              "  </tbody>\n",
              "</table>\n",
              "<p>14 rows × 85 columns</p>\n",
              "</div>"
            ],
            "text/plain": [
              "                         0             1   ...                         83        84\n",
              "competitorname    100 grand  3 musketeers  ...  werthers original caramel  whoppers\n",
              "chocolate                 1             1  ...                          0         1\n",
              "fruity                    0             0  ...                          0         0\n",
              "caramel                   1             0  ...                          1         0\n",
              "peanutyalmondy            0             0  ...                          0         0\n",
              "nougat                    0             1  ...                          0         0\n",
              "crispedricewafer          1             0  ...                          0         1\n",
              "hard                      0             0  ...                          1         0\n",
              "bar                       1             1  ...                          0         0\n",
              "pluribus                  0             0  ...                          0         1\n",
              "sugarpercent          0.732         0.604  ...                      0.186     0.872\n",
              "pricepercent           0.86         0.511  ...                      0.267     0.848\n",
              "winpercent          66.9717       67.6029  ...                    41.9043   49.5241\n",
              "category                NaN     chocolate  ...                        NaN       NaN\n",
              "\n",
              "[14 rows x 85 columns]"
            ]
          },
          "metadata": {
            "tags": []
          }
        }
      ]
    },
    {
      "cell_type": "code",
      "metadata": {
        "id": "xQhfosu7Q9ur",
        "colab_type": "code",
        "outputId": "2f8b681b-3104-4b88-c155-3e5eba812add",
        "colab": {
          "base_uri": "https://localhost:8080/",
          "height": 197
        }
      },
      "source": [
        "candy_data.sugarpercent = round(data.sugarpercent,3)\n",
        "candy_data.pricepercent = round(data.pricepercent,3)\n",
        "candy_data.winpercent = round(data.winpercent,3)\n"
      ],
      "execution_count": 2,
      "outputs": [
        {
          "output_type": "error",
          "ename": "NameError",
          "evalue": "ignored",
          "traceback": [
            "\u001b[0;31m---------------------------------------------------------------------------\u001b[0m",
            "\u001b[0;31mNameError\u001b[0m                                 Traceback (most recent call last)",
            "\u001b[0;32m<ipython-input-2-14e102c041cc>\u001b[0m in \u001b[0;36m<module>\u001b[0;34m()\u001b[0m\n\u001b[0;32m----> 1\u001b[0;31m \u001b[0mcandy_data\u001b[0m\u001b[0;34m.\u001b[0m\u001b[0msugarpercent\u001b[0m \u001b[0;34m=\u001b[0m \u001b[0mround\u001b[0m\u001b[0;34m(\u001b[0m\u001b[0mdata\u001b[0m\u001b[0;34m.\u001b[0m\u001b[0msugarpercent\u001b[0m\u001b[0;34m,\u001b[0m\u001b[0;36m3\u001b[0m\u001b[0;34m)\u001b[0m\u001b[0;34m\u001b[0m\u001b[0;34m\u001b[0m\u001b[0m\n\u001b[0m\u001b[1;32m      2\u001b[0m \u001b[0mcandy_data\u001b[0m\u001b[0;34m.\u001b[0m\u001b[0mpricepercent\u001b[0m \u001b[0;34m=\u001b[0m \u001b[0mround\u001b[0m\u001b[0;34m(\u001b[0m\u001b[0mdata\u001b[0m\u001b[0;34m.\u001b[0m\u001b[0mpricepercent\u001b[0m\u001b[0;34m,\u001b[0m\u001b[0;36m3\u001b[0m\u001b[0;34m)\u001b[0m\u001b[0;34m\u001b[0m\u001b[0;34m\u001b[0m\u001b[0m\n\u001b[1;32m      3\u001b[0m \u001b[0mcandy_data\u001b[0m\u001b[0;34m.\u001b[0m\u001b[0mwinpercent\u001b[0m \u001b[0;34m=\u001b[0m \u001b[0mround\u001b[0m\u001b[0;34m(\u001b[0m\u001b[0mdata\u001b[0m\u001b[0;34m.\u001b[0m\u001b[0mwinpercent\u001b[0m\u001b[0;34m,\u001b[0m\u001b[0;36m3\u001b[0m\u001b[0;34m)\u001b[0m\u001b[0;34m\u001b[0m\u001b[0;34m\u001b[0m\u001b[0m\n",
            "\u001b[0;31mNameError\u001b[0m: name 'data' is not defined"
          ]
        }
      ]
    },
    {
      "cell_type": "markdown",
      "metadata": {
        "id": "JAI5Lvy6pOPN",
        "colab_type": "text"
      },
      "source": [
        "Intercept: 34.13574296847616\n",
        "\n",
        "Coefficients: \n",
        "'chocolate'= 18.92584064,\n",
        " 'fruity'= 8.05126009 \n",
        " 'caramel'= -3.58659701\n",
        " 'peanutyalmondy'= 8.45203415\n",
        " nougat = 7.93401708 \n",
        " 'crispedricewafer'= 15.99830741\n",
        " 'hard'= -6.33077947\n",
        " 'bar'= -4.73633764\n",
        " 'pluribus'= -2.81719118\n",
        " 'sugarpercent'= 11.43430413 \n",
        " 'pricepercent'= -0.77170981"
      ]
    },
    {
      "cell_type": "markdown",
      "metadata": {
        "id": "DN3rCPyaYrRT",
        "colab_type": "text"
      },
      "source": [
        "INTERPRITATION :\n",
        "\n",
        "1. using this data,we can estimate the combinations of the ingredient that can be a candy or a chocolate.\n",
        "2. using winpercent we can figer out the top winners out of list of competitors.\n",
        "3. chocolate cobinations of competitors are having higher winpercent than a candy.\n",
        "\n",
        "\n",
        "           "
      ]
    }
  ]
}