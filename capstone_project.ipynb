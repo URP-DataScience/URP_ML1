{
  "nbformat": 4,
  "nbformat_minor": 0,
  "metadata": {
    "colab": {
      "name": "capstone project",
      "provenance": [],
      "collapsed_sections": [],
      "authorship_tag": "ABX9TyOxWNErkivEa8v6el2NN/dq",
      "include_colab_link": true
    },
    "kernelspec": {
      "name": "python3",
      "display_name": "Python 3"
    }
  },
  "cells": [
    {
      "cell_type": "markdown",
      "metadata": {
        "id": "view-in-github",
        "colab_type": "text"
      },
      "source": [
        "<a href=\"https://colab.research.google.com/github/banduguide/URP_ML1/blob/master/capstone_project.ipynb\" target=\"_parent\"><img src=\"https://colab.research.google.com/assets/colab-badge.svg\" alt=\"Open In Colab\"/></a>"
      ]
    },
    {
      "cell_type": "code",
      "metadata": {
        "id": "c6Ls4_t9F042",
        "colab_type": "code",
        "colab": {}
      },
      "source": [
        "import mysql.connector"
      ],
      "execution_count": 0,
      "outputs": []
    },
    {
      "cell_type": "code",
      "metadata": {
        "id": "9p24EZOQEok3",
        "colab_type": "code",
        "colab": {}
      },
      "source": [
        "config = {\n",
        "  'user': 'student',\n",
        "  'password': 'student',\n",
        "  'host': 'cpanel.insaid.co',\n",
        "  'database': 'Capstone1',\n",
        "  'raise_on_warnings': True\n",
        "}\n",
        "\n",
        "cnx = mysql.connector.connect(**config)\n",
        "\n",
        "cnx.close()"
      ],
      "execution_count": 0,
      "outputs": []
    }
  ]
}